{
 "cells": [
  {
   "cell_type": "code",
   "execution_count": 1,
   "metadata": {
    "_cell_guid": "b1076dfc-b9ad-4769-8c92-a6c4dae69d19",
    "_uuid": "8f2839f25d086af736a60e9eeb907d3b93b6e0e5"
   },
   "outputs": [],
   "source": [
    "import os\n",
    "import re\n",
    "import numpy as np\n",
    "import pandas as pd\n",
    "import seaborn as sns\n",
    "import matplotlib.pyplot as plt\n",
    "import os\n",
    "from collections import Counter, OrderedDict\n",
    "from datetime import datetime\n",
    "print(os.listdir(\"../input\"))"
   ]
  },
  {
   "cell_type": "code",
   "execution_count": 2,
   "metadata": {},
   "outputs": [
    {
     "data": {
      "text/html": [
       "<div>\n",
       "<style scoped>\n",
       "    .dataframe tbody tr th:only-of-type {\n",
       "        vertical-align: middle;\n",
       "    }\n",
       "\n",
       "    .dataframe tbody tr th {\n",
       "        vertical-align: top;\n",
       "    }\n",
       "\n",
       "    .dataframe thead th {\n",
       "        text-align: right;\n",
       "    }\n",
       "</style>\n",
       "<table border=\"1\" class=\"dataframe\">\n",
       "  <thead>\n",
       "    <tr style=\"text-align: right;\">\n",
       "      <th></th>\n",
       "      <th>imdb_id</th>\n",
       "      <th>popularity</th>\n",
       "      <th>budget</th>\n",
       "      <th>revenue</th>\n",
       "      <th>original_title</th>\n",
       "      <th>cast</th>\n",
       "      <th>director</th>\n",
       "      <th>tagline</th>\n",
       "      <th>overview</th>\n",
       "      <th>runtime</th>\n",
       "      <th>genres</th>\n",
       "      <th>production_companies</th>\n",
       "      <th>release_date</th>\n",
       "      <th>vote_count</th>\n",
       "      <th>vote_average</th>\n",
       "      <th>release_year</th>\n",
       "    </tr>\n",
       "  </thead>\n",
       "  <tbody>\n",
       "    <tr>\n",
       "      <td>0</td>\n",
       "      <td>tt0369610</td>\n",
       "      <td>32.985763</td>\n",
       "      <td>150000000</td>\n",
       "      <td>1513528810</td>\n",
       "      <td>Jurassic World</td>\n",
       "      <td>Chris Pratt|Bryce Dallas Howard|Irrfan Khan|Vi...</td>\n",
       "      <td>Colin Trevorrow</td>\n",
       "      <td>The park is open.</td>\n",
       "      <td>Twenty-two years after the events of Jurassic ...</td>\n",
       "      <td>124</td>\n",
       "      <td>Action|Adventure|Science Fiction|Thriller</td>\n",
       "      <td>Universal Studios|Amblin Entertainment|Legenda...</td>\n",
       "      <td>6/9/2015</td>\n",
       "      <td>5562</td>\n",
       "      <td>6.5</td>\n",
       "      <td>2015</td>\n",
       "    </tr>\n",
       "    <tr>\n",
       "      <td>1</td>\n",
       "      <td>tt1392190</td>\n",
       "      <td>28.419936</td>\n",
       "      <td>150000000</td>\n",
       "      <td>378436354</td>\n",
       "      <td>Mad Max: Fury Road</td>\n",
       "      <td>Tom Hardy|Charlize Theron|Hugh Keays-Byrne|Nic...</td>\n",
       "      <td>George Miller</td>\n",
       "      <td>What a Lovely Day.</td>\n",
       "      <td>An apocalyptic story set in the furthest reach...</td>\n",
       "      <td>120</td>\n",
       "      <td>Action|Adventure|Science Fiction|Thriller</td>\n",
       "      <td>Village Roadshow Pictures|Kennedy Miller Produ...</td>\n",
       "      <td>5/13/2015</td>\n",
       "      <td>6185</td>\n",
       "      <td>7.1</td>\n",
       "      <td>2015</td>\n",
       "    </tr>\n",
       "    <tr>\n",
       "      <td>2</td>\n",
       "      <td>tt2908446</td>\n",
       "      <td>13.112507</td>\n",
       "      <td>110000000</td>\n",
       "      <td>295238201</td>\n",
       "      <td>Insurgent</td>\n",
       "      <td>Shailene Woodley|Theo James|Kate Winslet|Ansel...</td>\n",
       "      <td>Robert Schwentke</td>\n",
       "      <td>One Choice Can Destroy You</td>\n",
       "      <td>Beatrice Prior must confront her inner demons ...</td>\n",
       "      <td>119</td>\n",
       "      <td>Adventure|Science Fiction|Thriller</td>\n",
       "      <td>Summit Entertainment|Mandeville Films|Red Wago...</td>\n",
       "      <td>3/18/2015</td>\n",
       "      <td>2480</td>\n",
       "      <td>6.3</td>\n",
       "      <td>2015</td>\n",
       "    </tr>\n",
       "    <tr>\n",
       "      <td>3</td>\n",
       "      <td>tt2488496</td>\n",
       "      <td>11.173104</td>\n",
       "      <td>200000000</td>\n",
       "      <td>2068178225</td>\n",
       "      <td>Star Wars: The Force Awakens</td>\n",
       "      <td>Harrison Ford|Mark Hamill|Carrie Fisher|Adam D...</td>\n",
       "      <td>J.J. Abrams</td>\n",
       "      <td>Every generation has a story.</td>\n",
       "      <td>Thirty years after defeating the Galactic Empi...</td>\n",
       "      <td>136</td>\n",
       "      <td>Action|Adventure|Science Fiction|Fantasy</td>\n",
       "      <td>Lucasfilm|Truenorth Productions|Bad Robot</td>\n",
       "      <td>12/15/2015</td>\n",
       "      <td>5292</td>\n",
       "      <td>7.5</td>\n",
       "      <td>2015</td>\n",
       "    </tr>\n",
       "    <tr>\n",
       "      <td>4</td>\n",
       "      <td>tt2820852</td>\n",
       "      <td>9.335014</td>\n",
       "      <td>190000000</td>\n",
       "      <td>1506249360</td>\n",
       "      <td>Furious 7</td>\n",
       "      <td>Vin Diesel|Paul Walker|Jason Statham|Michelle ...</td>\n",
       "      <td>James Wan</td>\n",
       "      <td>Vengeance Hits Home</td>\n",
       "      <td>Deckard Shaw seeks revenge against Dominic Tor...</td>\n",
       "      <td>137</td>\n",
       "      <td>Action|Crime|Thriller</td>\n",
       "      <td>Universal Pictures|Original Film|Media Rights ...</td>\n",
       "      <td>4/1/2015</td>\n",
       "      <td>2947</td>\n",
       "      <td>7.3</td>\n",
       "      <td>2015</td>\n",
       "    </tr>\n",
       "  </tbody>\n",
       "</table>\n",
       "</div>"
      ],
      "text/plain": [
       "     imdb_id  popularity     budget     revenue                original_title  \\\n",
       "0  tt0369610   32.985763  150000000  1513528810                Jurassic World   \n",
       "1  tt1392190   28.419936  150000000   378436354            Mad Max: Fury Road   \n",
       "2  tt2908446   13.112507  110000000   295238201                     Insurgent   \n",
       "3  tt2488496   11.173104  200000000  2068178225  Star Wars: The Force Awakens   \n",
       "4  tt2820852    9.335014  190000000  1506249360                     Furious 7   \n",
       "\n",
       "                                                cast          director  \\\n",
       "0  Chris Pratt|Bryce Dallas Howard|Irrfan Khan|Vi...   Colin Trevorrow   \n",
       "1  Tom Hardy|Charlize Theron|Hugh Keays-Byrne|Nic...     George Miller   \n",
       "2  Shailene Woodley|Theo James|Kate Winslet|Ansel...  Robert Schwentke   \n",
       "3  Harrison Ford|Mark Hamill|Carrie Fisher|Adam D...       J.J. Abrams   \n",
       "4  Vin Diesel|Paul Walker|Jason Statham|Michelle ...         James Wan   \n",
       "\n",
       "                         tagline  \\\n",
       "0              The park is open.   \n",
       "1             What a Lovely Day.   \n",
       "2     One Choice Can Destroy You   \n",
       "3  Every generation has a story.   \n",
       "4            Vengeance Hits Home   \n",
       "\n",
       "                                            overview  runtime  \\\n",
       "0  Twenty-two years after the events of Jurassic ...      124   \n",
       "1  An apocalyptic story set in the furthest reach...      120   \n",
       "2  Beatrice Prior must confront her inner demons ...      119   \n",
       "3  Thirty years after defeating the Galactic Empi...      136   \n",
       "4  Deckard Shaw seeks revenge against Dominic Tor...      137   \n",
       "\n",
       "                                      genres  \\\n",
       "0  Action|Adventure|Science Fiction|Thriller   \n",
       "1  Action|Adventure|Science Fiction|Thriller   \n",
       "2         Adventure|Science Fiction|Thriller   \n",
       "3   Action|Adventure|Science Fiction|Fantasy   \n",
       "4                      Action|Crime|Thriller   \n",
       "\n",
       "                                production_companies release_date  vote_count  \\\n",
       "0  Universal Studios|Amblin Entertainment|Legenda...     6/9/2015        5562   \n",
       "1  Village Roadshow Pictures|Kennedy Miller Produ...    5/13/2015        6185   \n",
       "2  Summit Entertainment|Mandeville Films|Red Wago...    3/18/2015        2480   \n",
       "3          Lucasfilm|Truenorth Productions|Bad Robot   12/15/2015        5292   \n",
       "4  Universal Pictures|Original Film|Media Rights ...     4/1/2015        2947   \n",
       "\n",
       "   vote_average  release_year  \n",
       "0           6.5          2015  \n",
       "1           7.1          2015  \n",
       "2           6.3          2015  \n",
       "3           7.5          2015  \n",
       "4           7.3          2015  "
      ]
     },
     "execution_count": 2,
     "metadata": {},
     "output_type": "execute_result"
    }
   ],
   "source": [
    "data = pd.read_csv(\"../input/imbd-sf/data.csv'\")\n",
    "data.head(5)"
   ]
  },
  {
   "cell_type": "code",
   "execution_count": 3,
   "metadata": {},
   "outputs": [
    {
     "data": {
      "text/plain": [
       "1890"
      ]
     },
     "execution_count": 3,
     "metadata": {},
     "output_type": "execute_result"
    }
   ],
   "source": [
    "len(data)"
   ]
  },
  {
   "cell_type": "markdown",
   "metadata": {},
   "source": [
    "# Предобработка датасета"
   ]
  },
  {
   "cell_type": "code",
   "execution_count": 4,
   "metadata": {},
   "outputs": [
    {
     "name": "stderr",
     "output_type": "stream",
     "text": [
      "C:\\Users\\Artyom\\Anaconda3\\lib\\site-packages\\ipykernel_launcher.py:11: SettingWithCopyWarning: \n",
      "A value is trying to be set on a copy of a slice from a DataFrame\n",
      "\n",
      "See the caveats in the documentation: http://pandas.pydata.org/pandas-docs/stable/user_guide/indexing.html#returning-a-view-versus-a-copy\n",
      "  # This is added back by InteractiveShellApp.init_path()\n",
      "C:\\Users\\Artyom\\Anaconda3\\lib\\site-packages\\ipykernel_launcher.py:18: SettingWithCopyWarning: \n",
      "A value is trying to be set on a copy of a slice from a DataFrame\n",
      "\n",
      "See the caveats in the documentation: http://pandas.pydata.org/pandas-docs/stable/user_guide/indexing.html#returning-a-view-versus-a-copy\n",
      "C:\\Users\\Artyom\\Anaconda3\\lib\\site-packages\\ipykernel_launcher.py:24: SettingWithCopyWarning: \n",
      "A value is trying to be set on a copy of a slice from a DataFrame\n",
      "\n",
      "See the caveats in the documentation: http://pandas.pydata.org/pandas-docs/stable/user_guide/indexing.html#returning-a-view-versus-a-copy\n",
      "C:\\Users\\Artyom\\Anaconda3\\lib\\site-packages\\ipykernel_launcher.py:30: SettingWithCopyWarning: \n",
      "A value is trying to be set on a copy of a slice from a DataFrame\n",
      "\n",
      "See the caveats in the documentation: http://pandas.pydata.org/pandas-docs/stable/user_guide/indexing.html#returning-a-view-versus-a-copy\n"
     ]
    }
   ],
   "source": [
    "answer_ls = [] # создадим список с ответами. сюда будем добавлять ответы по мере прохождения теста\n",
    "\n",
    "# сюда можем вписать создание новых колонок в датасете\n",
    "\n",
    "# Прибыль/убыль фильма\n",
    "data['profit'] = data['revenue'] - data['budget']\n",
    "\n",
    "# Определяет, является ли фильм прибыльным\n",
    "data['profit_is_not_loss'] = None\n",
    "for i, profit in enumerate(data['profit']):\n",
    "    data['profit_is_not_loss'][i] = True if (profit > 0) else False\n",
    "data[['profit', 'profit_is_not_loss']]\n",
    "\n",
    "# Месяц релиза фильма\n",
    "data['release_month'] = data['release_date']\n",
    "data_dates = data['release_month']\n",
    "for i, date in enumerate(data_dates):\n",
    "    data_dates[i] = str(datetime.strptime(date, '%m/%d/%Y').month)\n",
    "\n",
    "# Кол-во символов в названии (включая пробелы)\n",
    "data['title_letter_count'] = data['original_title']\n",
    "data_titles = data['title_letter_count']\n",
    "for i, title in enumerate(data_titles):\n",
    "    data_titles[i] = len(title)\n",
    "    \n",
    "# Кол-во слов в названии (под словами подразумеваются срезы строк, разделенные пробелами)\n",
    "data['title_word_count'] = data['original_title']\n",
    "data_titles = data['title_word_count']\n",
    "for i, title in enumerate(data_titles):\n",
    "    data_titles[i] = len(title.split(' '))"
   ]
  },
  {
   "cell_type": "markdown",
   "metadata": {},
   "source": [
    "# Функции"
   ]
  },
  {
   "cell_type": "code",
   "execution_count": 5,
   "metadata": {},
   "outputs": [],
   "source": [
    "sort_for_sec = lambda x: x[1] # Сортирование по второму атрибуту внутри списка (кортежа)\n",
    "\n",
    "def true_values_percent(data_list):\n",
    "    \"\"\"Считает кол-во истинных значений (для последнего задания)\"\"\"\n",
    "    values_counter = Counter()\n",
    "    for value in data_list:\n",
    "        values_counter[value] += 1\n",
    "    return values_counter[True] / len(data_list)\n",
    "\n",
    "def value_contains_counter(ds, column_name, func=False):\n",
    "    \"\"\"Создает счетчик вхождения значений, разделенных '|' (или без разделения), и по дополнительному \n",
    "    условию (по умолчанию доп. условие отключено)\"\"\"\n",
    "    all_values_set = get_all_column_values(ds, column_name)\n",
    "    value_in_data_counter = dict() # Метод Counter тут не поддерживает сортировку\n",
    "    for value in all_values_set:\n",
    "        if func == False:\n",
    "            value_in_data_counter[value] = len(data[data[column_name].str.contains(value)])\n",
    "        else:\n",
    "            value_in_data_counter[value] = len(data[(data[column_name].str.contains(value)) & ((func)(data))])\n",
    "    value_in_data_counter = sorted(value_in_data_counter.items(), key=sort_for_sec, reverse=True)\n",
    "    return list(value_in_data_counter)\n",
    "\n",
    "def get_all_column_values(ds, column_name):\n",
    "    \"\"\"Принимает датасет и название столбза из датасета, в котором значения \n",
    "    разделены знаком '|' (или без разделения), и возвращает список всех значений, содержащихся в \n",
    "    указанном столбце\"\"\"\n",
    "    all_values_set = set()\n",
    "    for values in ds[column_name]:\n",
    "        values_list = values.split('|')\n",
    "        for value in values_list:\n",
    "            all_values_set.add(value)\n",
    "    return list(all_values_set)"
   ]
  },
  {
   "cell_type": "markdown",
   "metadata": {},
   "source": [
    "# Константы"
   ]
  },
  {
   "cell_type": "code",
   "execution_count": 6,
   "metadata": {},
   "outputs": [],
   "source": [
    "# Ср.знач бюджета\n",
    "BUDGET_MEAN = data['budget'].mean()"
   ]
  },
  {
   "cell_type": "markdown",
   "metadata": {},
   "source": [
    "# 1. У какого фильма из списка самый большой бюджет?\n",
    "Варианты ответов:\n",
    "1. The Dark Knight Rises (tt1345836)\n",
    "2. Spider-Man 3 (tt0413300)\n",
    "3. Avengers: Age of Ultron (tt2395427)\n",
    "4. The Warrior's Way\t(tt1032751)\n",
    "5. Pirates of the Caribbean: On Stranger Tides (tt1298650)"
   ]
  },
  {
   "cell_type": "code",
   "execution_count": 7,
   "metadata": {},
   "outputs": [
    {
     "data": {
      "text/plain": [
       "491    The Warrior's Way\n",
       "Name: original_title, dtype: object"
      ]
     },
     "metadata": {},
     "output_type": "display_data"
    }
   ],
   "source": [
    "ans_1 = data.sort_values(['budget'], ascending=False).head(1)\n",
    "display(ans_1['original_title'])"
   ]
  },
  {
   "cell_type": "code",
   "execution_count": 8,
   "metadata": {},
   "outputs": [],
   "source": [
    "# тут вводим ваш ответ и добавлем в его список ответов (сейчас для примера стоит \"1\")\n",
    "answer_ls.append(4)"
   ]
  },
  {
   "cell_type": "markdown",
   "metadata": {},
   "source": [
    "# 2. Какой из фильмов самый длительный (в минутах)\n",
    "1. The Lord of the Rings: The Return of the King\t(tt0167260)\n",
    "2. Gods and Generals\t(tt0279111)\n",
    "3. King Kong\t(tt0360717)\n",
    "4. Pearl Harbor\t(tt0213149)\n",
    "5. Alexander\t(tt0346491)"
   ]
  },
  {
   "cell_type": "code",
   "execution_count": 9,
   "metadata": {},
   "outputs": [
    {
     "data": {
      "text/plain": [
       "1158    Gods and Generals\n",
       "Name: original_title, dtype: object"
      ]
     },
     "metadata": {},
     "output_type": "display_data"
    }
   ],
   "source": [
    "ans_2 = data.sort_values(['runtime'], ascending=False).head(1)\n",
    "display(ans_2['original_title'])"
   ]
  },
  {
   "cell_type": "code",
   "execution_count": 10,
   "metadata": {},
   "outputs": [],
   "source": [
    "answer_ls.append(2)"
   ]
  },
  {
   "cell_type": "markdown",
   "metadata": {},
   "source": [
    "# 3. Какой из фильмов самый короткий (в минутах)\n",
    "Варианты ответов:\n",
    "\n",
    "1. Home on the Range\ttt0299172\n",
    "2. The Jungle Book 2\ttt0283426\n",
    "3. Winnie the Pooh\ttt1449283\n",
    "4. Corpse Bride\ttt0121164\n",
    "5. Hoodwinked!\ttt0443536"
   ]
  },
  {
   "cell_type": "code",
   "execution_count": 11,
   "metadata": {},
   "outputs": [
    {
     "data": {
      "text/plain": [
       "769    Winnie the Pooh\n",
       "Name: original_title, dtype: object"
      ]
     },
     "metadata": {},
     "output_type": "display_data"
    }
   ],
   "source": [
    "ans_3 = data.sort_values(['runtime']).head(1)\n",
    "display(ans_3['original_title'])"
   ]
  },
  {
   "cell_type": "code",
   "execution_count": 12,
   "metadata": {},
   "outputs": [],
   "source": [
    "answer_ls.append(3)"
   ]
  },
  {
   "cell_type": "markdown",
   "metadata": {},
   "source": [
    "# 4. Средняя длительность фильма?\n",
    "\n",
    "\n",
    "Варианты ответов:\n",
    "1. 115\n",
    "2. 110\n",
    "3. 105\n",
    "4. 120\n",
    "5. 100\n"
   ]
  },
  {
   "cell_type": "code",
   "execution_count": 13,
   "metadata": {},
   "outputs": [
    {
     "data": {
      "text/plain": [
       "109.65343915343915"
      ]
     },
     "metadata": {},
     "output_type": "display_data"
    }
   ],
   "source": [
    "ans_4 = data['runtime'].mean()\n",
    "display(ans_4)"
   ]
  },
  {
   "cell_type": "code",
   "execution_count": 14,
   "metadata": {},
   "outputs": [],
   "source": [
    "answer_ls.append(2)"
   ]
  },
  {
   "cell_type": "markdown",
   "metadata": {},
   "source": [
    "# 5. Средняя длительность фильма по медиане?\n",
    "Варианты ответов:\n",
    "1. 106\n",
    "2. 112\n",
    "3. 101\n",
    "4. 120\n",
    "5. 115\n",
    "\n",
    "\n"
   ]
  },
  {
   "cell_type": "code",
   "execution_count": 15,
   "metadata": {},
   "outputs": [
    {
     "data": {
      "text/plain": [
       "106.5"
      ]
     },
     "metadata": {},
     "output_type": "display_data"
    }
   ],
   "source": [
    "ans_5 = data['runtime'].median()\n",
    "display(ans_5)"
   ]
  },
  {
   "cell_type": "code",
   "execution_count": 16,
   "metadata": {},
   "outputs": [],
   "source": [
    "answer_ls.append(1)"
   ]
  },
  {
   "cell_type": "markdown",
   "metadata": {},
   "source": [
    "# 6. Какой самый прибыльный фильм?\n",
    "Варианты ответов:\n",
    "1. The Avengers\ttt0848228\n",
    "2. Minions\ttt2293640\n",
    "3. Star Wars: The Force Awakens\ttt2488496\n",
    "4. Furious 7\ttt2820852\n",
    "5. Avatar\ttt0499549"
   ]
  },
  {
   "cell_type": "code",
   "execution_count": 17,
   "metadata": {},
   "outputs": [
    {
     "data": {
      "text/html": [
       "<div>\n",
       "<style scoped>\n",
       "    .dataframe tbody tr th:only-of-type {\n",
       "        vertical-align: middle;\n",
       "    }\n",
       "\n",
       "    .dataframe tbody tr th {\n",
       "        vertical-align: top;\n",
       "    }\n",
       "\n",
       "    .dataframe thead th {\n",
       "        text-align: right;\n",
       "    }\n",
       "</style>\n",
       "<table border=\"1\" class=\"dataframe\">\n",
       "  <thead>\n",
       "    <tr style=\"text-align: right;\">\n",
       "      <th></th>\n",
       "      <th>original_title</th>\n",
       "      <th>profit</th>\n",
       "    </tr>\n",
       "  </thead>\n",
       "  <tbody>\n",
       "    <tr>\n",
       "      <td>239</td>\n",
       "      <td>Avatar</td>\n",
       "      <td>2544505847</td>\n",
       "    </tr>\n",
       "  </tbody>\n",
       "</table>\n",
       "</div>"
      ],
      "text/plain": [
       "    original_title      profit\n",
       "239         Avatar  2544505847"
      ]
     },
     "execution_count": 17,
     "metadata": {},
     "output_type": "execute_result"
    }
   ],
   "source": [
    "ans_6 = data.sort_values('profit', ascending=False)[['original_title', 'profit']].head(1)\n",
    "ans_6"
   ]
  },
  {
   "cell_type": "code",
   "execution_count": 18,
   "metadata": {},
   "outputs": [],
   "source": [
    "answer_ls.append(5)"
   ]
  },
  {
   "cell_type": "markdown",
   "metadata": {},
   "source": [
    "# 7. Какой фильм самый убыточный?\n",
    "Варианты ответов:\n",
    "1. Supernova tt0134983\n",
    "2. The Warrior's Way tt1032751\n",
    "3. Flushed Away\ttt0424095\n",
    "4. The Adventures of Pluto Nash\ttt0180052\n",
    "5. The Lone Ranger\ttt1210819"
   ]
  },
  {
   "cell_type": "code",
   "execution_count": 19,
   "metadata": {},
   "outputs": [
    {
     "data": {
      "text/html": [
       "<div>\n",
       "<style scoped>\n",
       "    .dataframe tbody tr th:only-of-type {\n",
       "        vertical-align: middle;\n",
       "    }\n",
       "\n",
       "    .dataframe tbody tr th {\n",
       "        vertical-align: top;\n",
       "    }\n",
       "\n",
       "    .dataframe thead th {\n",
       "        text-align: right;\n",
       "    }\n",
       "</style>\n",
       "<table border=\"1\" class=\"dataframe\">\n",
       "  <thead>\n",
       "    <tr style=\"text-align: right;\">\n",
       "      <th></th>\n",
       "      <th>original_title</th>\n",
       "      <th>profit</th>\n",
       "    </tr>\n",
       "  </thead>\n",
       "  <tbody>\n",
       "    <tr>\n",
       "      <td>491</td>\n",
       "      <td>The Warrior's Way</td>\n",
       "      <td>-413912431</td>\n",
       "    </tr>\n",
       "  </tbody>\n",
       "</table>\n",
       "</div>"
      ],
      "text/plain": [
       "        original_title     profit\n",
       "491  The Warrior's Way -413912431"
      ]
     },
     "metadata": {},
     "output_type": "display_data"
    }
   ],
   "source": [
    "ans_7 = data.sort_values('profit', ascending=True)[['original_title', 'profit']].head(1)\n",
    "display(ans_7)"
   ]
  },
  {
   "cell_type": "code",
   "execution_count": 20,
   "metadata": {},
   "outputs": [],
   "source": [
    "answer_ls.append(2)"
   ]
  },
  {
   "cell_type": "markdown",
   "metadata": {},
   "source": [
    "# 8. Сколько всего фильмов в прибыли?\n",
    "Варианты ответов:\n",
    "1. 1478\n",
    "2. 1520\n",
    "3. 1241\n",
    "4. 1135\n",
    "5. 1398\n"
   ]
  },
  {
   "cell_type": "code",
   "execution_count": 21,
   "metadata": {},
   "outputs": [
    {
     "data": {
      "text/plain": [
       "1478"
      ]
     },
     "metadata": {},
     "output_type": "display_data"
    }
   ],
   "source": [
    "ans_8 = len(data[data['profit_is_not_loss']])\n",
    "display(ans_8)"
   ]
  },
  {
   "cell_type": "code",
   "execution_count": 22,
   "metadata": {},
   "outputs": [],
   "source": [
    "answer_ls.append(1)"
   ]
  },
  {
   "cell_type": "markdown",
   "metadata": {},
   "source": [
    "# 9. Самый <del>прибыльный</del> кассовый фильм в 2008 году?\n",
    "<strong><font  color=\"red\">Примечание. Под кассовым я понимаю колонку 'revenue', отражающую кассовые сборы фильма. Самый кассовый и самый прибыльный фильм по сборам не отличаются</font></strong>\n",
    "\n",
    "Варианты ответов:\n",
    "1. Madagascar: Escape 2 Africa\ttt0479952\n",
    "2. Iron Man\ttt0371746\n",
    "3. Kung Fu Panda\ttt0441773\n",
    "4. The Dark Knight\ttt0468569\n",
    "5. Mamma Mia!\ttt0795421"
   ]
  },
  {
   "cell_type": "code",
   "execution_count": 23,
   "metadata": {},
   "outputs": [
    {
     "data": {
      "text/html": [
       "<div>\n",
       "<style scoped>\n",
       "    .dataframe tbody tr th:only-of-type {\n",
       "        vertical-align: middle;\n",
       "    }\n",
       "\n",
       "    .dataframe tbody tr th {\n",
       "        vertical-align: top;\n",
       "    }\n",
       "\n",
       "    .dataframe thead th {\n",
       "        text-align: right;\n",
       "    }\n",
       "</style>\n",
       "<table border=\"1\" class=\"dataframe\">\n",
       "  <thead>\n",
       "    <tr style=\"text-align: right;\">\n",
       "      <th></th>\n",
       "      <th>imdb_id</th>\n",
       "      <th>popularity</th>\n",
       "      <th>budget</th>\n",
       "      <th>revenue</th>\n",
       "      <th>original_title</th>\n",
       "      <th>cast</th>\n",
       "      <th>director</th>\n",
       "      <th>tagline</th>\n",
       "      <th>overview</th>\n",
       "      <th>runtime</th>\n",
       "      <th>...</th>\n",
       "      <th>production_companies</th>\n",
       "      <th>release_date</th>\n",
       "      <th>vote_count</th>\n",
       "      <th>vote_average</th>\n",
       "      <th>release_year</th>\n",
       "      <th>profit</th>\n",
       "      <th>profit_is_not_loss</th>\n",
       "      <th>release_month</th>\n",
       "      <th>title_letter_count</th>\n",
       "      <th>title_word_count</th>\n",
       "    </tr>\n",
       "  </thead>\n",
       "  <tbody>\n",
       "    <tr>\n",
       "      <td>600</td>\n",
       "      <td>tt0468569</td>\n",
       "      <td>8.466668</td>\n",
       "      <td>185000000</td>\n",
       "      <td>1001921825</td>\n",
       "      <td>The Dark Knight</td>\n",
       "      <td>Christian Bale|Michael Caine|Heath Ledger|Aaro...</td>\n",
       "      <td>Christopher Nolan</td>\n",
       "      <td>Why So Serious?</td>\n",
       "      <td>Batman raises the stakes in his war on crime. ...</td>\n",
       "      <td>152</td>\n",
       "      <td>...</td>\n",
       "      <td>DC Comics|Legendary Pictures|Warner Bros.|Syncopy</td>\n",
       "      <td>7/16/2008</td>\n",
       "      <td>8432</td>\n",
       "      <td>8.1</td>\n",
       "      <td>2008</td>\n",
       "      <td>816921825</td>\n",
       "      <td>True</td>\n",
       "      <td>7</td>\n",
       "      <td>15</td>\n",
       "      <td>3</td>\n",
       "    </tr>\n",
       "  </tbody>\n",
       "</table>\n",
       "<p>1 rows × 21 columns</p>\n",
       "</div>"
      ],
      "text/plain": [
       "       imdb_id  popularity     budget     revenue   original_title  \\\n",
       "600  tt0468569    8.466668  185000000  1001921825  The Dark Knight   \n",
       "\n",
       "                                                  cast           director  \\\n",
       "600  Christian Bale|Michael Caine|Heath Ledger|Aaro...  Christopher Nolan   \n",
       "\n",
       "             tagline                                           overview  \\\n",
       "600  Why So Serious?  Batman raises the stakes in his war on crime. ...   \n",
       "\n",
       "     runtime  ...                               production_companies  \\\n",
       "600      152  ...  DC Comics|Legendary Pictures|Warner Bros.|Syncopy   \n",
       "\n",
       "    release_date vote_count  vote_average  release_year     profit  \\\n",
       "600    7/16/2008       8432           8.1          2008  816921825   \n",
       "\n",
       "     profit_is_not_loss release_month title_letter_count title_word_count  \n",
       "600                True             7                 15                3  \n",
       "\n",
       "[1 rows x 21 columns]"
      ]
     },
     "metadata": {},
     "output_type": "display_data"
    },
    {
     "data": {
      "text/html": [
       "<div>\n",
       "<style scoped>\n",
       "    .dataframe tbody tr th:only-of-type {\n",
       "        vertical-align: middle;\n",
       "    }\n",
       "\n",
       "    .dataframe tbody tr th {\n",
       "        vertical-align: top;\n",
       "    }\n",
       "\n",
       "    .dataframe thead th {\n",
       "        text-align: right;\n",
       "    }\n",
       "</style>\n",
       "<table border=\"1\" class=\"dataframe\">\n",
       "  <thead>\n",
       "    <tr style=\"text-align: right;\">\n",
       "      <th></th>\n",
       "      <th>imdb_id</th>\n",
       "      <th>popularity</th>\n",
       "      <th>budget</th>\n",
       "      <th>revenue</th>\n",
       "      <th>original_title</th>\n",
       "      <th>cast</th>\n",
       "      <th>director</th>\n",
       "      <th>tagline</th>\n",
       "      <th>overview</th>\n",
       "      <th>runtime</th>\n",
       "      <th>...</th>\n",
       "      <th>production_companies</th>\n",
       "      <th>release_date</th>\n",
       "      <th>vote_count</th>\n",
       "      <th>vote_average</th>\n",
       "      <th>release_year</th>\n",
       "      <th>profit</th>\n",
       "      <th>profit_is_not_loss</th>\n",
       "      <th>release_month</th>\n",
       "      <th>title_letter_count</th>\n",
       "      <th>title_word_count</th>\n",
       "    </tr>\n",
       "  </thead>\n",
       "  <tbody>\n",
       "    <tr>\n",
       "      <td>600</td>\n",
       "      <td>tt0468569</td>\n",
       "      <td>8.466668</td>\n",
       "      <td>185000000</td>\n",
       "      <td>1001921825</td>\n",
       "      <td>The Dark Knight</td>\n",
       "      <td>Christian Bale|Michael Caine|Heath Ledger|Aaro...</td>\n",
       "      <td>Christopher Nolan</td>\n",
       "      <td>Why So Serious?</td>\n",
       "      <td>Batman raises the stakes in his war on crime. ...</td>\n",
       "      <td>152</td>\n",
       "      <td>...</td>\n",
       "      <td>DC Comics|Legendary Pictures|Warner Bros.|Syncopy</td>\n",
       "      <td>7/16/2008</td>\n",
       "      <td>8432</td>\n",
       "      <td>8.1</td>\n",
       "      <td>2008</td>\n",
       "      <td>816921825</td>\n",
       "      <td>True</td>\n",
       "      <td>7</td>\n",
       "      <td>15</td>\n",
       "      <td>3</td>\n",
       "    </tr>\n",
       "  </tbody>\n",
       "</table>\n",
       "<p>1 rows × 21 columns</p>\n",
       "</div>"
      ],
      "text/plain": [
       "       imdb_id  popularity     budget     revenue   original_title  \\\n",
       "600  tt0468569    8.466668  185000000  1001921825  The Dark Knight   \n",
       "\n",
       "                                                  cast           director  \\\n",
       "600  Christian Bale|Michael Caine|Heath Ledger|Aaro...  Christopher Nolan   \n",
       "\n",
       "             tagline                                           overview  \\\n",
       "600  Why So Serious?  Batman raises the stakes in his war on crime. ...   \n",
       "\n",
       "     runtime  ...                               production_companies  \\\n",
       "600      152  ...  DC Comics|Legendary Pictures|Warner Bros.|Syncopy   \n",
       "\n",
       "    release_date vote_count  vote_average  release_year     profit  \\\n",
       "600    7/16/2008       8432           8.1          2008  816921825   \n",
       "\n",
       "     profit_is_not_loss release_month title_letter_count title_word_count  \n",
       "600                True             7                 15                3  \n",
       "\n",
       "[1 rows x 21 columns]"
      ]
     },
     "metadata": {},
     "output_type": "display_data"
    }
   ],
   "source": [
    "display(data[(data['release_year'] == 2008)].sort_values('profit', ascending=False).head(1))\n",
    "ans_9 = data[(data['release_year'] == 2008)].sort_values('revenue', ascending=False).head(1)\n",
    "display(ans_9)"
   ]
  },
  {
   "cell_type": "code",
   "execution_count": 24,
   "metadata": {},
   "outputs": [],
   "source": [
    "answer_ls.append(4)"
   ]
  },
  {
   "cell_type": "markdown",
   "metadata": {},
   "source": [
    "# 10. Самый убыточный фильм за период с 2012 по 2014 (включительно)?\n",
    "Варианты ответов:\n",
    "1. Winter's Tale\ttt1837709\n",
    "2. Stolen\ttt1656186\n",
    "3. Broken City\ttt1235522\n",
    "4. Upside Down\ttt1374992\n",
    "5. The Lone Ranger\ttt1210819\n"
   ]
  },
  {
   "cell_type": "code",
   "execution_count": 25,
   "metadata": {},
   "outputs": [
    {
     "data": {
      "text/html": [
       "<div>\n",
       "<style scoped>\n",
       "    .dataframe tbody tr th:only-of-type {\n",
       "        vertical-align: middle;\n",
       "    }\n",
       "\n",
       "    .dataframe tbody tr th {\n",
       "        vertical-align: top;\n",
       "    }\n",
       "\n",
       "    .dataframe thead th {\n",
       "        text-align: right;\n",
       "    }\n",
       "</style>\n",
       "<table border=\"1\" class=\"dataframe\">\n",
       "  <thead>\n",
       "    <tr style=\"text-align: right;\">\n",
       "      <th></th>\n",
       "      <th>imdb_id</th>\n",
       "      <th>popularity</th>\n",
       "      <th>budget</th>\n",
       "      <th>revenue</th>\n",
       "      <th>original_title</th>\n",
       "      <th>cast</th>\n",
       "      <th>director</th>\n",
       "      <th>tagline</th>\n",
       "      <th>overview</th>\n",
       "      <th>runtime</th>\n",
       "      <th>...</th>\n",
       "      <th>production_companies</th>\n",
       "      <th>release_date</th>\n",
       "      <th>vote_count</th>\n",
       "      <th>vote_average</th>\n",
       "      <th>release_year</th>\n",
       "      <th>profit</th>\n",
       "      <th>profit_is_not_loss</th>\n",
       "      <th>release_month</th>\n",
       "      <th>title_letter_count</th>\n",
       "      <th>title_word_count</th>\n",
       "    </tr>\n",
       "  </thead>\n",
       "  <tbody>\n",
       "    <tr>\n",
       "      <td>1246</td>\n",
       "      <td>tt1210819</td>\n",
       "      <td>1.21451</td>\n",
       "      <td>255000000</td>\n",
       "      <td>89289910</td>\n",
       "      <td>The Lone Ranger</td>\n",
       "      <td>Johnny Depp|Armie Hammer|William Fichtner|Hele...</td>\n",
       "      <td>Gore Verbinski</td>\n",
       "      <td>Never Take Off the Mask</td>\n",
       "      <td>The Texas Rangers chase down a gang of outlaws...</td>\n",
       "      <td>149</td>\n",
       "      <td>...</td>\n",
       "      <td>Walt Disney Pictures|Jerry Bruckheimer Films|I...</td>\n",
       "      <td>7/3/2013</td>\n",
       "      <td>1607</td>\n",
       "      <td>6.0</td>\n",
       "      <td>2013</td>\n",
       "      <td>-165710090</td>\n",
       "      <td>False</td>\n",
       "      <td>7</td>\n",
       "      <td>15</td>\n",
       "      <td>3</td>\n",
       "    </tr>\n",
       "  </tbody>\n",
       "</table>\n",
       "<p>1 rows × 21 columns</p>\n",
       "</div>"
      ],
      "text/plain": [
       "        imdb_id  popularity     budget   revenue   original_title  \\\n",
       "1246  tt1210819     1.21451  255000000  89289910  The Lone Ranger   \n",
       "\n",
       "                                                   cast        director  \\\n",
       "1246  Johnny Depp|Armie Hammer|William Fichtner|Hele...  Gore Verbinski   \n",
       "\n",
       "                      tagline  \\\n",
       "1246  Never Take Off the Mask   \n",
       "\n",
       "                                               overview  runtime  ...  \\\n",
       "1246  The Texas Rangers chase down a gang of outlaws...      149  ...   \n",
       "\n",
       "                                   production_companies release_date  \\\n",
       "1246  Walt Disney Pictures|Jerry Bruckheimer Films|I...     7/3/2013   \n",
       "\n",
       "     vote_count  vote_average  release_year     profit  profit_is_not_loss  \\\n",
       "1246       1607           6.0          2013 -165710090               False   \n",
       "\n",
       "     release_month title_letter_count title_word_count  \n",
       "1246             7                 15                3  \n",
       "\n",
       "[1 rows x 21 columns]"
      ]
     },
     "metadata": {},
     "output_type": "display_data"
    }
   ],
   "source": [
    "ans_10 = data[(data['release_year'] <= 2014) & (data['release_year'] >= 2012)].sort_values('profit').head(1)\n",
    "display(ans_10)"
   ]
  },
  {
   "cell_type": "code",
   "execution_count": 26,
   "metadata": {},
   "outputs": [],
   "source": [
    "answer_ls.append(5)"
   ]
  },
  {
   "cell_type": "markdown",
   "metadata": {},
   "source": [
    "# 11. Какого жанра фильмов больше всего?\n",
    "Варианты ответов:\n",
    "1. Action\n",
    "2. Adventure\n",
    "3. Drama\n",
    "4. Comedy\n",
    "5. Thriller"
   ]
  },
  {
   "cell_type": "code",
   "execution_count": 27,
   "metadata": {},
   "outputs": [
    {
     "data": {
      "text/plain": [
       "[('Drama', 782),\n",
       " ('Comedy', 683),\n",
       " ('Thriller', 597),\n",
       " ('Action', 583),\n",
       " ('Adventure', 416),\n",
       " ('Crime', 315),\n",
       " ('Romance', 308),\n",
       " ('Family', 260),\n",
       " ('Science Fiction', 248),\n",
       " ('Fantasy', 223),\n",
       " ('Horror', 176),\n",
       " ('Mystery', 168),\n",
       " ('Animation', 139),\n",
       " ('Music', 64),\n",
       " ('History', 62),\n",
       " ('War', 58),\n",
       " ('Western', 20),\n",
       " ('Documentary', 8),\n",
       " ('Foreign', 2)]"
      ]
     },
     "metadata": {},
     "output_type": "display_data"
    },
    {
     "data": {
      "text/plain": [
       "('Drama', 782)"
      ]
     },
     "metadata": {},
     "output_type": "display_data"
    }
   ],
   "source": [
    "genre_top = value_contains_counter(data, 'genres', func=False)\n",
    "display(genre_top)\n",
    "ans_11 = genre_top[0]\n",
    "display(ans_11)"
   ]
  },
  {
   "cell_type": "code",
   "execution_count": 28,
   "metadata": {},
   "outputs": [],
   "source": [
    "answer_ls.append(3)"
   ]
  },
  {
   "cell_type": "markdown",
   "metadata": {},
   "source": [
    "# 12. Какого жанра среди прибыльных фильмов больше всего?\n",
    "Варианты ответов:\n",
    "1. Drama\n",
    "2. Comedy\n",
    "3. Action\n",
    "4. Thriller\n",
    "5. Adventure"
   ]
  },
  {
   "cell_type": "code",
   "execution_count": 29,
   "metadata": {},
   "outputs": [
    {
     "data": {
      "text/plain": [
       "[('Drama', 560),\n",
       " ('Comedy', 551),\n",
       " ('Thriller', 446),\n",
       " ('Action', 444),\n",
       " ('Adventure', 337),\n",
       " ('Romance', 242),\n",
       " ('Crime', 231),\n",
       " ('Family', 226),\n",
       " ('Science Fiction', 195),\n",
       " ('Fantasy', 188),\n",
       " ('Horror', 150),\n",
       " ('Animation', 120),\n",
       " ('Mystery', 119),\n",
       " ('Music', 47),\n",
       " ('History', 46),\n",
       " ('War', 41),\n",
       " ('Western', 12),\n",
       " ('Documentary', 7),\n",
       " ('Foreign', 0)]"
      ]
     },
     "metadata": {},
     "output_type": "display_data"
    },
    {
     "data": {
      "text/plain": [
       "('Drama', 560)"
      ]
     },
     "metadata": {},
     "output_type": "display_data"
    }
   ],
   "source": [
    "genre_profit_top = value_contains_counter(data, 'genres', func=lambda data: data['budget'] < data['revenue'])\n",
    "display(genre_profit_top)\n",
    "ans_12 = genre_profit_top[0]\n",
    "display(ans_12)"
   ]
  },
  {
   "cell_type": "code",
   "execution_count": 30,
   "metadata": {},
   "outputs": [],
   "source": [
    "answer_ls.append(1)"
   ]
  },
  {
   "cell_type": "markdown",
   "metadata": {},
   "source": [
    "# 13. Кто из режиссеров снял больше всего фильмов?\n",
    "Варианты ответов:\n",
    "1. Steven Spielberg\n",
    "2. Ridley Scott \n",
    "3. Steven Soderbergh\n",
    "4. Christopher Nolan\n",
    "5. Clint Eastwood"
   ]
  },
  {
   "cell_type": "code",
   "execution_count": 31,
   "metadata": {},
   "outputs": [
    {
     "name": "stdout",
     "output_type": "stream",
     "text": [
      "Steven Soderbergh:  13\n",
      "Clint Eastwood:  12\n",
      "Ridley Scott:  12\n",
      "Steven Spielberg:  10\n",
      "Christopher Nolan:  8\n"
     ]
    }
   ],
   "source": [
    "director_contains_counter = value_contains_counter(data, 'director')\n",
    "for i, director in enumerate(director_contains_counter):\n",
    "    if director[0] in ['Steven Spielberg', 'Ridley Scott', 'Steven Soderbergh', 'Christopher Nolan', 'Clint Eastwood']:\n",
    "        print('{}: '.format(director[0]), director[1])\n",
    "ans_13 = 'Steven Soderbergh'"
   ]
  },
  {
   "cell_type": "code",
   "execution_count": 32,
   "metadata": {},
   "outputs": [],
   "source": [
    "answer_ls.append(3)"
   ]
  },
  {
   "cell_type": "markdown",
   "metadata": {},
   "source": [
    "# 14. Кто из режиссеров снял больше всего Прибыльных фильмов?\n",
    "Варианты ответов:\n",
    "1. Steven Soderbergh\n",
    "2. Clint Eastwood\n",
    "3. Steven Spielberg\n",
    "4. Ridley Scott\n",
    "5. Christopher Nolan"
   ]
  },
  {
   "cell_type": "code",
   "execution_count": 33,
   "metadata": {},
   "outputs": [
    {
     "name": "stdout",
     "output_type": "stream",
     "text": [
      "Ridley Scott:  12\n",
      "Clint Eastwood:  10\n",
      "Steven Spielberg:  10\n",
      "Steven Soderbergh:  10\n",
      "Christopher Nolan:  8\n"
     ]
    }
   ],
   "source": [
    "director_profit_contains_counter = value_contains_counter(data, 'director', func=lambda data: data['profit_is_not_loss'])\n",
    "for i, director in enumerate(director_profit_contains_counter):\n",
    "    if director[0] in ['Steven Spielberg', 'Ridley Scott', 'Steven Soderbergh', 'Christopher Nolan', 'Clint Eastwood']:\n",
    "        print('{}: '.format(director[0]), director[1])\n",
    "ans_14 = 'Steven Soderbergh'"
   ]
  },
  {
   "cell_type": "code",
   "execution_count": 34,
   "metadata": {},
   "outputs": [
    {
     "data": {
      "text/plain": [
       "director\n",
       "Ridley Scott         12\n",
       "Steven Spielberg     10\n",
       "Steven Soderbergh    10\n",
       "Clint Eastwood       10\n",
       "Shawn Levy            9\n",
       "Name: profit, dtype: int64"
      ]
     },
     "execution_count": 34,
     "metadata": {},
     "output_type": "execute_result"
    }
   ],
   "source": [
    "# Метод решения через groupby\n",
    "data[data['profit_is_not_loss']].groupby(['director'])['profit'].count().sort_values(ascending=False).head(5)"
   ]
  },
  {
   "cell_type": "code",
   "execution_count": 35,
   "metadata": {},
   "outputs": [],
   "source": [
    "answer_ls.append(4)"
   ]
  },
  {
   "cell_type": "markdown",
   "metadata": {},
   "source": [
    "# 15. Кто из режиссеров принес больше всего прибыли?\n",
    "Варианты ответов:\n",
    "1. Steven Spielberg\n",
    "2. Christopher Nolan\n",
    "3. David Yates\n",
    "4. James Cameron\n",
    "5. Peter Jackson\n"
   ]
  },
  {
   "cell_type": "code",
   "execution_count": 36,
   "metadata": {},
   "outputs": [
    {
     "data": {
      "text/plain": [
       "<matplotlib.axes._subplots.AxesSubplot at 0x195607b8348>"
      ]
     },
     "metadata": {},
     "output_type": "display_data"
    },
    {
     "data": {
      "text/plain": [
       "'Peter Jackson'"
      ]
     },
     "metadata": {},
     "output_type": "display_data"
    },
    {
     "data": {
      "image/png": "[encoded data removed]",
      "text/plain": [
       "<Figure size 432x288 with 1 Axes>"
      ]
     },
     "metadata": {
      "needs_background": "light"
     },
     "output_type": "display_data"
    }
   ],
   "source": [
    "display(data.groupby(['director'])['profit'].sum().sort_values(ascending=False).head(5).plot(kind = 'bar'))\n",
    "ans_15 = 'Peter Jackson'\n",
    "display(ans_15)"
   ]
  },
  {
   "cell_type": "code",
   "execution_count": 37,
   "metadata": {},
   "outputs": [],
   "source": [
    "answer_ls.append(5)"
   ]
  },
  {
   "cell_type": "markdown",
   "metadata": {},
   "source": [
    "# 16. Какой актер принес больше всего прибыли?\n",
    "Варианты ответов:\n",
    "1. Emma Watson\n",
    "2. Johnny Depp\n",
    "3. Michelle Rodriguez\n",
    "4. Orlando Bloom\n",
    "5. Rupert Grint"
   ]
  },
  {
   "cell_type": "code",
   "execution_count": 38,
   "metadata": {},
   "outputs": [
    {
     "data": {
      "text/plain": [
       "('Emma Watson', 6666245597)"
      ]
     },
     "metadata": {},
     "output_type": "display_data"
    }
   ],
   "source": [
    "actors = get_all_column_values(data, 'cast')\n",
    "actors_profit = {}\n",
    "for actor in actors:\n",
    "    if actor in ['Emma Watson', 'Johnny Depp', 'Michelle Rodriguez', 'Orlando Bloom', 'Rupert Grint']:\n",
    "        actors_profit[actor] = data[data['cast'].str.contains(actor)]['profit'].sum()\n",
    "ans_16 = sorted(actors_profit.items(), key=sort_for_sec, reverse=True)[0]\n",
    "display(ans_16)"
   ]
  },
  {
   "cell_type": "code",
   "execution_count": 39,
   "metadata": {},
   "outputs": [],
   "source": [
    "answer_ls.append(1)"
   ]
  },
  {
   "cell_type": "markdown",
   "metadata": {},
   "source": [
    "# 17. Какой актер принес меньше всего прибыли в 2012 году?\n",
    "Варианты ответов:\n",
    "1. Nicolas Cage\n",
    "2. Danny Huston\n",
    "3. Kirsten Dunst\n",
    "4. Jim Sturgess\n",
    "5. Sami Gayle"
   ]
  },
  {
   "cell_type": "code",
   "execution_count": 40,
   "metadata": {},
   "outputs": [
    {
     "data": {
      "text/plain": [
       "('Kirsten Dunst', -68109207)"
      ]
     },
     "metadata": {},
     "output_type": "display_data"
    }
   ],
   "source": [
    "actors_loss = {}\n",
    "for actor in actors:\n",
    "    if actor in ['Nicolas Cage', 'Danny Huston', 'Kirsten Dunst', 'Jim Sturgess', 'Sami Gayle']:\n",
    "        actors_loss[actor] = data[(data['cast'].str.contains(actor)) & (data['release_year'] == 2012)]['profit'].sum()\n",
    "ans_17 = sorted(actors_loss.items(), key=sort_for_sec, reverse=False)[0]\n",
    "display(ans_17)"
   ]
  },
  {
   "cell_type": "code",
   "execution_count": 41,
   "metadata": {},
   "outputs": [],
   "source": [
    "answer_ls.append(3)"
   ]
  },
  {
   "cell_type": "markdown",
   "metadata": {},
   "source": [
    "# 18. Какой актер снялся в большем количестве высокобюджетных фильмов? (в фильмах где бюджет выше среднего по данной выборке)\n",
    "Варианты ответов:\n",
    "1. Tom Cruise\n",
    "2. Mark Wahlberg \n",
    "3. Matt Damon\n",
    "4. Angelina Jolie\n",
    "5. Adam Sandler"
   ]
  },
  {
   "cell_type": "code",
   "execution_count": 42,
   "metadata": {},
   "outputs": [
    {
     "data": {
      "text/plain": [
       "('Matt Damon', 18)"
      ]
     },
     "metadata": {},
     "output_type": "display_data"
    }
   ],
   "source": [
    "actors_high_budget = {}\n",
    "for actor in actors:\n",
    "    if actor in ['Tom Cruise', 'Mark Wahlberg', 'Matt Damon', 'Angelina Jolie', 'Adam Sandler']:\n",
    "        actors_high_budget[actor] = len(data[(data['cast'].str.contains(actor)) & (data['budget'] > BUDGET_MEAN)])\n",
    "ans_18 = sorted(actors_high_budget.items(), key=sort_for_sec, reverse=True)[0]\n",
    "display(ans_18)"
   ]
  },
  {
   "cell_type": "code",
   "execution_count": 43,
   "metadata": {},
   "outputs": [],
   "source": [
    "answer_ls.append(3)"
   ]
  },
  {
   "cell_type": "markdown",
   "metadata": {},
   "source": [
    "# 19. В фильмах какого жанра больше всего снимался Nicolas Cage?  \n",
    "Варианты ответа:\n",
    "1. Drama\n",
    "2. Action\n",
    "3. Thriller\n",
    "4. Adventure\n",
    "5. Crime"
   ]
  },
  {
   "cell_type": "code",
   "execution_count": 44,
   "metadata": {},
   "outputs": [
    {
     "data": {
      "text/plain": [
       "('Action', 17)"
      ]
     },
     "metadata": {},
     "output_type": "display_data"
    }
   ],
   "source": [
    "genres = get_all_column_values(data, 'genres')\n",
    "nicolas_cage_genres_counter = Counter()\n",
    "for genre in genres:\n",
    "    nicolas_cage_genres_counter[genre] = len(data[(data['cast'].str.contains('Nicolas Cage')) & (data['genres'].str.contains(genre))])\n",
    "ans_19 = sorted(nicolas_cage_genres_counter.items(), key=sort_for_sec, reverse=True)[0]\n",
    "display(ans_19)"
   ]
  },
  {
   "cell_type": "code",
   "execution_count": 45,
   "metadata": {},
   "outputs": [],
   "source": [
    "answer_ls.append(2)"
   ]
  },
  {
   "cell_type": "markdown",
   "metadata": {},
   "source": [
    "# 20. Какая студия сняла больше всего фильмов?\n",
    "Варианты ответа:\n",
    "1. Universal Pictures (Universal)\n",
    "2. Paramount Pictures\n",
    "3. Columbia Pictures\n",
    "4. Warner Bros\n",
    "5. Twentieth Century Fox Film Corporation"
   ]
  },
  {
   "cell_type": "code",
   "execution_count": 46,
   "metadata": {},
   "outputs": [
    {
     "data": {
      "text/plain": [
       "['\"DIA\" Productions GmbH & Co. KG',\n",
       " '11:11 Mediaworks',\n",
       " '1492 Pictures',\n",
       " '1984 Private Defense Contractors',\n",
       " '2 Entertain',\n",
       " '20th Century Fox',\n",
       " '20th Century Fox Home Entertainment',\n",
       " '21 Laps Entertainment',\n",
       " '26 Films',\n",
       " '2929 Productions',\n",
       " '2S Films',\n",
       " '3 Arts Entertainment',\n",
       " '3 in the Box',\n",
       " '360 Pictures',\n",
       " '3Foot7',\n",
       " '3L Filmverleih',\n",
       " '40 Acres & A Mule Filmworks',\n",
       " '4M',\n",
       " '5150 Action',\n",
       " '80 Days Productions',\n",
       " '87Eleven',\n",
       " '8:38 Productions',\n",
       " '98 MPH Productions',\n",
       " 'A Band Apart',\n",
       " 'A Hot Dog',\n",
       " 'A&E Television Networks',\n",
       " 'A113',\n",
       " 'A24',\n",
       " 'AFG Talons Productions',\n",
       " 'ANA Media',\n",
       " 'AR Films',\n",
       " 'AR-TL',\n",
       " 'ARD Degeto Film',\n",
       " 'ARP SÃ©lection',\n",
       " 'ASAF',\n",
       " 'AZL Productions KG',\n",
       " 'Aardman Animations',\n",
       " 'Abandon Entertainment',\n",
       " 'Abraham Productions',\n",
       " 'Achte Babelsberg Film',\n",
       " 'Ad Hominem Enterprises',\n",
       " 'Adam Schroeder Productions',\n",
       " 'Aegis Film Fund',\n",
       " 'Affirm Films',\n",
       " 'After Dark Films',\n",
       " 'Agencja Produkcji Filmowej',\n",
       " 'Aggregate Films',\n",
       " 'Ahimsa Films',\n",
       " 'Akil Production Company',\n",
       " 'Alan Greenspan Productions',\n",
       " 'Albert S. Ruddy Productions',\n",
       " 'Alberta Film Entertainment',\n",
       " 'Alberto Grimaldi Productions',\n",
       " 'Alcon Entertainment',\n",
       " 'Aldamisa Entertainment',\n",
       " 'Aldrich Group',\n",
       " 'Alfama Films',\n",
       " 'All Knight Productions',\n",
       " 'Alliance Atlantis Communications',\n",
       " 'Alliance Atlantis Motion Picture Production',\n",
       " 'Alliance Films',\n",
       " 'Allied Filmmakers',\n",
       " 'Allison Shearmur Productions',\n",
       " 'Alloy Entertainment',\n",
       " 'Allspark Pictures',\n",
       " 'Alpha Core',\n",
       " 'Alphaville Films',\n",
       " 'Alphaville Productions',\n",
       " 'Also Known As Pictures',\n",
       " 'Alta Loma Entertainment',\n",
       " 'Amazon Studios',\n",
       " 'Ambience Entertainment',\n",
       " 'Amblin Entertainment',\n",
       " 'Amen Ra Films',\n",
       " 'American Empirical Pictures',\n",
       " 'American Entertainment Partners L.P.',\n",
       " 'American Film Company',\n",
       " 'American Zoetrope',\n",
       " 'Anarchos Productions',\n",
       " 'Andalasia Productions',\n",
       " 'Andale Pictures',\n",
       " 'Andell Entertainment',\n",
       " 'Angry Films',\n",
       " 'Animal Logic',\n",
       " 'Animationwerks',\n",
       " 'Anka Film',\n",
       " 'Annapurna Pictures',\n",
       " 'Anonymous Content',\n",
       " 'Antena 3 Films',\n",
       " 'Antena 3 TelevisiÃ³n',\n",
       " 'Antietam Filmworks',\n",
       " 'Anton Capital Entertainment (ACE)',\n",
       " 'Apaches Entertainment',\n",
       " 'Apatow Productions',\n",
       " 'Aperture Entertainment',\n",
       " 'Apollo Media',\n",
       " 'ApolloMedia Distribution',\n",
       " 'ApolloProScreen Filmproduktion',\n",
       " 'Apotheosis Media Group',\n",
       " 'Apparatus Productions',\n",
       " 'Appian Way',\n",
       " 'Aramid Entertainment Fund',\n",
       " 'Arc Productions',\n",
       " 'Archer Street Productions',\n",
       " 'Ardustry Entertainment',\n",
       " 'Art In Motion',\n",
       " 'Art Linson Productions',\n",
       " 'Art Pictures Studio',\n",
       " 'Arte',\n",
       " 'Artina Films',\n",
       " 'Artisan Entertainment',\n",
       " 'Artists Production Group (APG)',\n",
       " 'Arts Council of England',\n",
       " 'ArtÃ©mis Productions',\n",
       " 'Ascendant Pictures',\n",
       " 'Ascension Pictures',\n",
       " 'Asis Productions',\n",
       " 'Astral Media',\n",
       " 'Asymmetrical Productions',\n",
       " 'Atlantic Television',\n",
       " 'Atlas Entertainment',\n",
       " 'Atlas Productions',\n",
       " 'Atmosphere Entertainment MM',\n",
       " 'Aura Film Partnership',\n",
       " 'Australian Film Finance Corporation (AFFC)',\n",
       " 'Automatik Entertainment',\n",
       " 'Avenue Pictures Productions',\n",
       " 'Aversano Films',\n",
       " 'Avery Pix',\n",
       " 'Avi Arad Productions',\n",
       " 'B24',\n",
       " 'BBC',\n",
       " 'BBC Films',\n",
       " 'BIM Distribuzione',\n",
       " 'Babbo Inc.',\n",
       " 'Babelsberg Film',\n",
       " 'Babieka',\n",
       " 'Baby Cow Productions',\n",
       " 'Babylon',\n",
       " 'Bac Films',\n",
       " 'Bad Hat Harry Productions',\n",
       " 'Bad Robot',\n",
       " 'Bagdasarian Productions',\n",
       " 'Baldwin Entertainment Group',\n",
       " 'Baltimore Spring Creek Productions',\n",
       " 'Bandito Brothers',\n",
       " 'Banter',\n",
       " 'Barry Mendel Productions',\n",
       " 'Battle Mountain Films',\n",
       " 'Battleplan Productions',\n",
       " 'Bauer Martinez Studios',\n",
       " 'Baumgarten Management and Productions (BMP)',\n",
       " 'Baumgarten Merims Productions',\n",
       " 'Bay Films',\n",
       " 'Bazelevs Production',\n",
       " 'Bazmark Films',\n",
       " 'Beacon Communications',\n",
       " 'Beacon Pictures',\n",
       " 'Beagle Pug Films',\n",
       " 'Bedford Falls Company, The',\n",
       " 'Bedford Falls Productions',\n",
       " 'Bedlam Productions',\n",
       " 'Beech Hill Films',\n",
       " 'Before the Door Pictures',\n",
       " 'Bekmambetov Projects Ltd.',\n",
       " 'Bel Air Entertainment',\n",
       " 'Benaroya Pictures',\n",
       " 'BenderSpink',\n",
       " 'Benderspink',\n",
       " 'Berlanti Productions',\n",
       " 'Bernard Gayle Productions',\n",
       " 'Beverly Detroit',\n",
       " 'Bewitched',\n",
       " 'Big Beach Films',\n",
       " 'Big Beach Productions',\n",
       " 'Big Kid Pictures',\n",
       " 'Big Primate Pictures',\n",
       " 'Big Screen Productions',\n",
       " 'Big Talk Productions',\n",
       " 'Bird and a Bear Entertainment',\n",
       " 'Birdsong Pictures',\n",
       " 'Birnbaum / Barber Productions',\n",
       " 'Birnbaum/Barber',\n",
       " 'Biscayne Pictures',\n",
       " 'Black & White Productions',\n",
       " 'Black Bear Pictures',\n",
       " 'Black Label Media',\n",
       " 'Black and Blu Entertainment',\n",
       " 'Blackfriars Bridge Films',\n",
       " 'Blacklab Entertainment',\n",
       " 'Blackout Productions Inc.',\n",
       " 'Blind Wink',\n",
       " 'Blind Wink Productions',\n",
       " 'Blinding Edge Pictures',\n",
       " 'Block / Hanson',\n",
       " 'Block 2 Pictures',\n",
       " 'Blockbuster Movie Entertainers',\n",
       " 'Blue Askew',\n",
       " 'Blue Flower Productions',\n",
       " 'Blue Productions',\n",
       " 'Blue Sea Productions',\n",
       " 'Blue Sky Studios',\n",
       " 'Blue Star Pictures',\n",
       " 'Blue Tulip Productions',\n",
       " 'Blue Yonder Films',\n",
       " 'Blue-Tongue Films',\n",
       " 'Bluegrass Films',\n",
       " 'Blueprint Pictures',\n",
       " 'Blumhouse Productions',\n",
       " 'Bob Yari Productions',\n",
       " 'Bold Films',\n",
       " 'Boll KG',\n",
       " 'Boll Kino Beteiligungs GmbH & Co. KG',\n",
       " 'Bona Fide Productions',\n",
       " 'Boram Entertainment Inc.',\n",
       " 'Bottom of the Ninth Productions',\n",
       " 'Bourne Again',\n",
       " 'Boxing Cat Films',\n",
       " 'Boy of the Year',\n",
       " 'Brad Grey Pictures',\n",
       " 'Branded Entertainment/Batfilm Productions',\n",
       " 'Brandywine Productions',\n",
       " 'Brass Hat Films',\n",
       " 'Brightlight Pictures',\n",
       " 'Bristol Automotive',\n",
       " 'Bristol Bay Productions',\n",
       " 'British Broadcasting Corporation (BBC)',\n",
       " 'British Film Council',\n",
       " 'British Film Institute (BFI)',\n",
       " 'Broken Chair Flickz',\n",
       " 'Broken Lizard Industries',\n",
       " 'Broken Road Productions',\n",
       " 'Brookwell-McNamara Entertainment',\n",
       " 'Brothers Dowdle Productions',\n",
       " 'BrownHouse Productions',\n",
       " 'Brownstone Productions',\n",
       " 'Buckaroo Entertainment',\n",
       " 'Buena Vista',\n",
       " 'Bueprint Pictures',\n",
       " \"Bull's Eye Entertainment\",\n",
       " 'Bulletproof Cupid',\n",
       " 'Bungalow Productions',\n",
       " 'Burg/Koules Productions',\n",
       " 'Business Location Sudtirol Alto Adige',\n",
       " \"Butcher's Run Films\",\n",
       " 'C-2 Pictures',\n",
       " 'C.O.R.E. Feature Animation',\n",
       " 'CAMERON MACKINTOSH',\n",
       " 'CBS Films',\n",
       " 'CJ Entertainment',\n",
       " 'CP Medien AG',\n",
       " 'Callahan Filmworks',\n",
       " 'Camelot Pictures',\n",
       " 'Camp / Thompson Pictures',\n",
       " 'Canadian Film or Video Production Tax Credit (CPTC)',\n",
       " 'Canal Plus',\n",
       " 'Canal+',\n",
       " 'Canal+ EspaÃ±a',\n",
       " 'Canal+Polska',\n",
       " 'Cannell Studios',\n",
       " 'Capella International',\n",
       " 'Capitol Films',\n",
       " 'Cappa Productions',\n",
       " 'Captivate Entertainment',\n",
       " 'Captivity Productions',\n",
       " 'Caramel Film',\n",
       " 'Caro-McLeod',\n",
       " 'Carousel Picture Company, The',\n",
       " 'Carousel Productions',\n",
       " 'Case 39 Productions',\n",
       " 'Casey Silver Productions',\n",
       " 'Castel Film Romania',\n",
       " 'Castelao Producciones',\n",
       " 'Castle Rock Entertainment',\n",
       " 'Catch 23 Entertainment',\n",
       " 'Catch Productions',\n",
       " 'CatchPlay',\n",
       " 'Catfish Productions',\n",
       " 'Cattleya',\n",
       " 'Cecchi Gori Group Tiger Cinematografica',\n",
       " 'Celador Films',\n",
       " 'Cent Productions Inc.',\n",
       " 'Central Films',\n",
       " 'Centropolis Entertainment',\n",
       " 'Chako Film Company',\n",
       " 'Chambara Pictures',\n",
       " 'Charenton Productions',\n",
       " 'Chartoff Productions',\n",
       " 'Chartoff-Winkler Productions',\n",
       " 'Cheetah Vision',\n",
       " 'Chernin Entertainment',\n",
       " 'Cheyenne Enterprises',\n",
       " 'Chime Films',\n",
       " 'China Film Co-Production Corporation',\n",
       " 'China Film Group',\n",
       " 'China Film Group Corporation (CFGC)',\n",
       " 'China Movie Channel',\n",
       " 'Chockstone Pictures',\n",
       " 'Chris Brinker Productions',\n",
       " 'Chris Lee Productions',\n",
       " 'Chrysalis Films',\n",
       " 'Cineblue Internationale Filmproduktionsgesellschaft',\n",
       " 'Cinelou Films',\n",
       " 'Cinema Four',\n",
       " 'Cinema Gypsy Productions',\n",
       " 'CinemaNX',\n",
       " 'Cinerenta Medienbeteiligungs KG',\n",
       " 'Cinerenta-Cinebeta',\n",
       " 'CinÃ©+',\n",
       " 'CinÃ©CinÃ©ma',\n",
       " 'City Light Films',\n",
       " 'City Productions',\n",
       " 'CityMation',\n",
       " 'Clear Blue Sky Productions',\n",
       " 'Cliffjack Motion Pictures',\n",
       " 'Clifford Werber Productions',\n",
       " 'Clinica Estetico',\n",
       " 'Clipsal Films',\n",
       " 'Closest to the Hole Productions',\n",
       " 'Cloud Atlas Productions',\n",
       " 'Cloud Eight Films',\n",
       " 'Cloudy Productions',\n",
       " 'Clubdeal',\n",
       " 'Cobalt Media Group',\n",
       " 'Coconut Pete Productions',\n",
       " 'Cohen/Pearl Productions',\n",
       " 'Cold Spring Pictures',\n",
       " 'Collision Entertainment',\n",
       " 'Colombia Pictures',\n",
       " 'Color Force',\n",
       " 'Colossal Pictures',\n",
       " 'Columbia Pictures',\n",
       " 'Columbia Pictures Corporation',\n",
       " 'Columbia TriStar',\n",
       " 'Columbus 81 Productions',\n",
       " 'Commission du Film France',\n",
       " 'Company Films',\n",
       " 'Compulsion Inc.',\n",
       " 'Constantin Film International',\n",
       " 'Constantin Film Ltd.',\n",
       " 'Constantin Film Produktion',\n",
       " 'Constantin Film.',\n",
       " 'Contagious Entertainment',\n",
       " 'Contrafilm',\n",
       " 'Conundrum Entertainment',\n",
       " 'Cool Music',\n",
       " \"Cooper's Town Productions\",\n",
       " 'Corduroy Films',\n",
       " 'Core Productions',\n",
       " 'Corner Store Entertainment',\n",
       " 'Corrino Media Corporation',\n",
       " 'Corsan',\n",
       " 'Cort/Madden Productions',\n",
       " 'Cosmic Pictures',\n",
       " 'Cott Productions',\n",
       " 'Cowboy Films',\n",
       " 'Cranium Films',\n",
       " 'Crave Films',\n",
       " 'Craven-Maddalena Films',\n",
       " 'Creative Scotland',\n",
       " 'Crescendo Productions',\n",
       " 'Crest Animation Productions',\n",
       " 'Cross Creek Pictures',\n",
       " 'Cruel and Unusual Films',\n",
       " 'Cruella Productions',\n",
       " 'Cruise-Wagner Productions',\n",
       " 'Cruise/Wagner Productions',\n",
       " 'Crusader Entertainment',\n",
       " 'Crying Box Productions',\n",
       " 'Crystal City Entertainment',\n",
       " 'Crystal Lake Entertainment',\n",
       " 'Crystal Sky Pictures',\n",
       " 'Crystal Sky Worldwide',\n",
       " 'Cube Vision',\n",
       " 'Curmudgeon Films',\n",
       " 'Current Entertainment',\n",
       " 'Curse Productions',\n",
       " 'Czech Anglo Productions',\n",
       " 'D8',\n",
       " 'DC Comics',\n",
       " 'DC Entertainment',\n",
       " 'DJ Films',\n",
       " 'DMG Entertainment',\n",
       " 'DNA Films',\n",
       " 'Dalian Wanda Group',\n",
       " 'Dan Films',\n",
       " 'Daniel Bobker Productions',\n",
       " 'Danjaq',\n",
       " 'Danmarks Radio (DR)',\n",
       " 'Dante Entertainment',\n",
       " 'Dark Castle Entertainment',\n",
       " 'Dark Horse Entertainment',\n",
       " 'Dark Lot Entertainment',\n",
       " 'Darko Entertainment',\n",
       " 'Darkwoods Productions',\n",
       " 'Darlow Smithson Productions',\n",
       " 'Darren Star Productions',\n",
       " 'David Brown Productions',\n",
       " 'David Dobkin Productions',\n",
       " 'David Foster Productions',\n",
       " 'David Kirschner Productions',\n",
       " 'David Ladd Films',\n",
       " 'Davis Entertainment',\n",
       " 'Davis-Films',\n",
       " 'Davis-Panzer Productions',\n",
       " 'Daybreak',\n",
       " 'Daybreak Productions',\n",
       " 'Dayday Films',\n",
       " 'De Line Pictures',\n",
       " 'De Milo',\n",
       " 'Debra Hill Productions',\n",
       " 'Decibel Films',\n",
       " 'Dee Gee Entertainment',\n",
       " 'Deep River Productions',\n",
       " 'Defiance Productions',\n",
       " 'DefyNite Films',\n",
       " 'Demarest Films',\n",
       " 'Dentsu',\n",
       " 'Dentsu Inc.',\n",
       " 'Denver and Delilah Productions',\n",
       " 'Depth of Field',\n",
       " 'Desertlands Entertainment',\n",
       " 'Detour Filmproduction',\n",
       " 'Deuce Three Productions',\n",
       " 'Di Bonaventura Picture',\n",
       " 'Di Bonaventura Pictures',\n",
       " 'DiNovi Pictures',\n",
       " 'Dickhouse Productions',\n",
       " 'Digital Domain',\n",
       " 'Dillywood',\n",
       " 'Dimension Films',\n",
       " 'Dimension Films (US version)',\n",
       " 'Dino De Laurentiis Company',\n",
       " 'Dino de Laurentiis Cinematografica',\n",
       " 'Disney',\n",
       " 'Disney Double Dare You (DDY)',\n",
       " 'Disney Enterprises',\n",
       " 'DisneyToon Studios',\n",
       " 'Disruption Entertainment',\n",
       " 'Distant Horizons',\n",
       " 'Division Films',\n",
       " 'DoRo Fiction Film',\n",
       " 'Domino 17521',\n",
       " 'Don Carmody Productions',\n",
       " 'Don Simpson/Jerry Bruckheimer Films',\n",
       " \"Donners' Company\",\n",
       " 'Doom Buggy Productions',\n",
       " 'Dos Corazones',\n",
       " 'Double Feature Films',\n",
       " 'Double Negative',\n",
       " 'Double Nickel Entertainment',\n",
       " 'Dr D Studios',\n",
       " 'DreamWorks',\n",
       " 'DreamWorks Animation',\n",
       " 'DreamWorks Pictures',\n",
       " 'DreamWorks SKG',\n",
       " 'Dreamachine',\n",
       " 'Dreamworks Pictures',\n",
       " 'DumbDumb',\n",
       " 'Dune Entertainment',\n",
       " 'Dune Entertainment III',\n",
       " 'Dune Films',\n",
       " 'Duperele Films',\n",
       " 'Dutch Oven',\n",
       " 'Dylan Sellers Productions',\n",
       " 'EFTI',\n",
       " 'EMJAG Productions',\n",
       " 'ETIC Films',\n",
       " 'Eagle Vision Inc.',\n",
       " 'Ealing Studios',\n",
       " 'Earth Canada Productions',\n",
       " 'Earthship Productions',\n",
       " 'Easy There Tiger Productions',\n",
       " 'Echo Films',\n",
       " 'Echo Lake Productions',\n",
       " 'Eclipse Catering',\n",
       " 'Ecosse Films',\n",
       " 'Eden Rock Media',\n",
       " 'Edge City',\n",
       " 'Edmonds Entertainment Group (EEG)',\n",
       " 'Edward R. Pressman Film',\n",
       " 'Egmond Film & Television',\n",
       " 'Ehman Productions',\n",
       " 'Eketahuna LLC',\n",
       " 'Electric City Entertainment',\n",
       " 'Electric Entertainment',\n",
       " 'Electric Shepherd Productions',\n",
       " 'Electronic Arts',\n",
       " 'Element Films',\n",
       " 'Element Pictures',\n",
       " 'Emergency Films',\n",
       " 'Emmett/Furla Films',\n",
       " 'Emperor Motion Pictures',\n",
       " 'Empire Pictures',\n",
       " 'Endgame Entertainment',\n",
       " 'Energy Entertainment',\n",
       " 'Entertainment Films',\n",
       " 'Entertainment Manufacturing Company',\n",
       " 'Entertainment One',\n",
       " 'Entertainment One Features',\n",
       " 'Envision Entertainment',\n",
       " 'Envision Entertainment Corporation',\n",
       " 'Eon Productions',\n",
       " 'Epidemic Pictures',\n",
       " 'Epsilon Motion Pictures',\n",
       " \"Eric's Boy\",\n",
       " 'Escape Artists',\n",
       " 'Esperanto Filmoj',\n",
       " 'Essential Media & Entertainment',\n",
       " 'Etalon film',\n",
       " 'Europa Corp',\n",
       " 'EuropaCorp',\n",
       " 'Evamere Entertainment',\n",
       " 'Everest Entertainment',\n",
       " 'Evergreen Media Group',\n",
       " 'Everyman Pictures',\n",
       " 'Evil Twins',\n",
       " 'Evolution Entertainment',\n",
       " 'Ex3 Productions',\n",
       " 'Exception Wild Bunch',\n",
       " 'Exclusive Films',\n",
       " 'Exclusive Media Group',\n",
       " 'Exodus Film Group',\n",
       " 'Exodus Productions',\n",
       " 'Extension 765',\n",
       " 'Eyetronics',\n",
       " 'FOZ',\n",
       " 'Failure to Launch Productions',\n",
       " 'Fake Empire',\n",
       " 'Fantail Films Inc.',\n",
       " 'Farah Films & Management',\n",
       " 'Farewell Productions',\n",
       " 'Fast Track Productions',\n",
       " 'Fastnet Films',\n",
       " 'Fat Free',\n",
       " 'Fear of God Films',\n",
       " 'Feigco Entertainment',\n",
       " 'Fellah Pictures',\n",
       " 'Fellowship Adventure Group',\n",
       " 'Fetisov Teterin Films',\n",
       " 'FidÃ©litÃ© Films',\n",
       " 'FidÃ©litÃ© Productions',\n",
       " 'Fierce Entertainment',\n",
       " 'Figment Films',\n",
       " 'Film 4',\n",
       " 'Film 44',\n",
       " 'Film Afrika Worldwide',\n",
       " 'Film Art Media',\n",
       " 'Film Capital Europe Funds (FCEF )',\n",
       " 'Film Colony',\n",
       " 'Film Department, The',\n",
       " 'Film Rites',\n",
       " 'Film i VÃ¤st',\n",
       " 'Film4',\n",
       " 'FilmColony',\n",
       " 'FilmDistrict',\n",
       " 'FilmEngine',\n",
       " 'FilmNation Entertainment',\n",
       " 'FilmWorks',\n",
       " 'Filmauro',\n",
       " 'Filmax Entertainment',\n",
       " 'Filmgate Films',\n",
       " 'Finding Forrester Productions',\n",
       " 'Fine Line Features',\n",
       " 'Finestkind',\n",
       " 'Fireworks Pictures',\n",
       " 'Firm Films',\n",
       " 'First Foot Films',\n",
       " 'First Light Production',\n",
       " 'Five Roses',\n",
       " 'Five Star Institute',\n",
       " 'Flan de Coco Films',\n",
       " 'Flashpoint Entertainment',\n",
       " 'Flower Films (II)',\n",
       " 'Flyboys Films',\n",
       " 'Flynn Picture Company',\n",
       " 'Focus Features',\n",
       " 'Focus Films',\n",
       " 'Follow Through Productions',\n",
       " 'Foqus Arte Digital',\n",
       " 'Foresight Unlimited',\n",
       " 'Fortis Films',\n",
       " 'Forward Pass',\n",
       " 'Fountainbridge Films',\n",
       " 'Four By Two Productions',\n",
       " 'FourBoys Entertainment',\n",
       " 'Fox 2000 Pictures',\n",
       " 'Fox Animation Studios',\n",
       " 'Fox Atomic',\n",
       " 'Fox International Productions',\n",
       " 'Fox Searchlight',\n",
       " 'Fox Searchlight Pictures',\n",
       " 'Foxtor Productions',\n",
       " 'Fragile Films',\n",
       " 'France 2 CinÃ©ma',\n",
       " 'France 3 CinÃ©ma',\n",
       " 'Franchise Pictures',\n",
       " 'Frantic Films',\n",
       " 'Free State Pictures',\n",
       " 'Freestyle Releasing',\n",
       " 'Friday Night Lights LLC',\n",
       " 'Friuli Venezia Giulia Film Commission',\n",
       " 'Front Street Productions',\n",
       " 'Frontier Pictures',\n",
       " 'Fuji Television Network',\n",
       " 'Funky Buddha Productions',\n",
       " 'Fuqua Films',\n",
       " 'Furia de Titanes II, A.I.E.',\n",
       " 'Furry Vengeance Productions',\n",
       " 'Furst Films',\n",
       " 'Fuzzy Door Productions',\n",
       " 'GHS Productions KG',\n",
       " 'GK Films',\n",
       " 'Galavis Film',\n",
       " 'Gambit Pictures',\n",
       " 'Gary Sanchez Productions',\n",
       " 'Gaumont',\n",
       " 'Gaylord Films',\n",
       " 'Genre Films',\n",
       " 'Gerber Pictures',\n",
       " 'Ghost House Pictures',\n",
       " 'Ghost Ship Films Pty. Ltd.',\n",
       " 'Ghoulardi Film Company',\n",
       " 'Gidden Media',\n",
       " 'Gimages',\n",
       " 'Global Entertainment Group',\n",
       " 'Global Entertainment Productions GmbH & Company Medien KG',\n",
       " 'Gold Circle Films',\n",
       " 'Gold/Miller Productions',\n",
       " 'Goldcrest Pictures',\n",
       " 'Golden Mean',\n",
       " 'Goldenlight Films',\n",
       " 'Goldmann Pictures',\n",
       " 'Goldsmith-Thomas Productions',\n",
       " 'Gone North Productions',\n",
       " 'Good Machine',\n",
       " 'Good Universe',\n",
       " 'Gotham Group',\n",
       " 'Government of Malta',\n",
       " 'Gracie Films',\n",
       " 'Gran Via Productions',\n",
       " 'Granada Film Productions',\n",
       " 'Grand Army Entertainment',\n",
       " 'Grand Slam Productions',\n",
       " 'Gratitude International',\n",
       " 'Gravier Productions',\n",
       " 'Great Scott Productions Pty. Ltd.',\n",
       " 'Great Wight Productions/ Osford Films',\n",
       " 'Green Hat Films',\n",
       " 'Green Hills Productions',\n",
       " 'Green Room Films',\n",
       " 'GreeneStreet Films',\n",
       " 'Greenestreet Films',\n",
       " 'Grindstone Entertainment Group',\n",
       " 'Grive Productions',\n",
       " 'Grosvenor Park Impact Productions',\n",
       " 'Grosvenor Park Media Ltd.',\n",
       " 'Grosvenor Park Productions',\n",
       " 'Groundswell Productions',\n",
       " 'Gulfstream Pictures',\n",
       " 'Gunn Films',\n",
       " 'Guy Walks into a Bar Productions',\n",
       " 'H2F Entertainment',\n",
       " 'HBO Films',\n",
       " 'HW Two',\n",
       " 'Hachiko',\n",
       " 'Hacienda Productions',\n",
       " 'Hal Lieberman Company',\n",
       " 'Halcyon Pictures',\n",
       " 'Hallway Pictures',\n",
       " 'Hammer & Tongs',\n",
       " 'Hammer Film Productions',\n",
       " 'Hammerhead Productions',\n",
       " 'HanWay Films',\n",
       " 'Hand Made Films',\n",
       " 'Handprint Entertainment',\n",
       " 'Happy Madison Productions',\n",
       " 'Harbour Pictures',\n",
       " 'Hard Eight Pictures',\n",
       " 'Hargitay & Hargitay Pictures in Motion',\n",
       " 'Hari Om Entertainment Co.',\n",
       " 'Harlequin Pictures',\n",
       " 'Harpo Films',\n",
       " 'Harry Potter Publishing Rights',\n",
       " 'Hart-Sharp Entertainment',\n",
       " 'Hasbro',\n",
       " 'Hasbro Studios',\n",
       " 'Havana Nights LLC',\n",
       " 'Head Gear Films',\n",
       " 'Headline Pictures',\n",
       " 'Hearst Entertainment Productions',\n",
       " 'Hedge Fund Film Partners',\n",
       " 'Heineken Branded Entertainment',\n",
       " 'Helena Productions',\n",
       " 'Hemisphere Media Capital',\n",
       " 'Henceforth',\n",
       " 'Heritage Films',\n",
       " 'Herold Productions',\n",
       " 'Herrick Entertainment',\n",
       " 'Heyday Films',\n",
       " 'Heyday films',\n",
       " 'HighRoad Entertainment',\n",
       " 'HimenÃ³ptero',\n",
       " 'Hit & Run Productions',\n",
       " 'Hofflund/Polone',\n",
       " 'Holleran Company',\n",
       " 'Hollywood Gang Productions',\n",
       " 'Hollywood Partners',\n",
       " 'Hollywood Pictures',\n",
       " 'Home Box Office (HBO)',\n",
       " 'Hopscotch Features',\n",
       " 'Hopscotch Films',\n",
       " 'HorrorFlix',\n",
       " 'Horsepower Films',\n",
       " 'Horseshoe Bay Productions',\n",
       " 'Hoytyboy Pictures',\n",
       " 'Huayi Brothers',\n",
       " 'Huayi Brothers Media',\n",
       " 'Huayi Brothers Media Corporation',\n",
       " 'Hughes Entertainment',\n",
       " 'Hungarian National Film Office',\n",
       " 'Hungry Eye Lowland Pictures B.V.',\n",
       " 'Hwy61',\n",
       " 'Hyde Park Entertainment',\n",
       " 'Hyde Park Films',\n",
       " 'Hydraulx',\n",
       " 'Hypnotic',\n",
       " 'I Could Never Ltd.',\n",
       " 'I Remember Productions',\n",
       " 'ICF',\n",
       " 'IDEA Filmproduktions',\n",
       " 'IFP Westcoast Erste',\n",
       " 'IM Filmproduktion',\n",
       " 'IM Global',\n",
       " 'IMF Internationale Medien und Film GmbH & Co. 3. Produktions KG',\n",
       " 'Icon Entertainment International',\n",
       " 'Icon Productions',\n",
       " 'Ikiru Films',\n",
       " 'Ilion Animation Studios',\n",
       " 'Illumination Entertainment',\n",
       " 'Illusion Entertainment',\n",
       " 'Image Entertainment',\n",
       " 'ImageMovers',\n",
       " 'Imagenation Abu Dhabi FZ',\n",
       " 'Imagi Animation Studios',\n",
       " 'Imagi Production',\n",
       " 'Imaginary Forces',\n",
       " 'Imagine Entertainment',\n",
       " 'Imhotep Productions',\n",
       " 'Immortal Entertainment',\n",
       " 'Impact Pictures',\n",
       " 'Imprint Entertainment',\n",
       " 'InVenture Entertainment',\n",
       " 'Incentive Filmed Entertainment',\n",
       " 'Indelible Productions',\n",
       " 'Indian Paintbrush',\n",
       " 'Indigo Film',\n",
       " 'Indochina Productions',\n",
       " 'Industrial Development Corporation of South Africa',\n",
       " 'Industrial Light & Magic (ILM)',\n",
       " 'Industry Entertainment',\n",
       " 'Inferno Distribution',\n",
       " 'Inferno Entertainment',\n",
       " 'Inferno International',\n",
       " 'Infinite Frameworks Studios',\n",
       " 'Infinitum Nihil',\n",
       " 'Infinity Features Entertainment',\n",
       " 'Infogrames Entertainment',\n",
       " 'Informant Media',\n",
       " 'Ingenious Film Partners',\n",
       " 'Ingenious Media',\n",
       " 'Inimitable Pictures',\n",
       " 'Initial Entertainment Group',\n",
       " 'Initial Entertainment Group (IEG)',\n",
       " 'Innocence Productions',\n",
       " 'Instituto de la CinematografÃ\\xada y de las Artes Audiovisuales (ICAA)',\n",
       " 'Insurge Pictures',\n",
       " 'Intandem Films',\n",
       " 'Intellectual Properties Worldwide',\n",
       " 'Intermedia',\n",
       " 'Intermedia Films',\n",
       " 'International Production Company',\n",
       " 'International Traders',\n",
       " 'Internationale Filmproduktion',\n",
       " 'Internationale Filmproduktion Blackbird Dritte',\n",
       " 'Internationale Filmproduktion Blackbird Erste',\n",
       " 'Internationale Filmproduktion Blackswan',\n",
       " 'Internationale Filmproduktion Richter',\n",
       " 'Internationale Filmproduktion Stella-del-Sud Second',\n",
       " 'Internationale Filmproduktion Stella-del-SÃ¼d',\n",
       " 'Interscope Communications',\n",
       " 'Intertainment AG',\n",
       " 'Into the Wild',\n",
       " 'Intrepid Pictures',\n",
       " 'Irish Dreamtime',\n",
       " 'Irish Film Board',\n",
       " 'Iron Film',\n",
       " 'Iron Horse Entertainment (II)',\n",
       " 'Irwin Allen Productions',\n",
       " 'Isle of Man Film',\n",
       " \"It's a Laugh Productions\",\n",
       " 'Italian Tax Credit',\n",
       " 'Item 7',\n",
       " 'Ixtlan',\n",
       " 'Ixtlan Productions',\n",
       " 'JC 23 Entertainment',\n",
       " 'JD Productions',\n",
       " 'JLT Productions',\n",
       " 'Jackie Chan Films Limited',\n",
       " 'Jaffe / Braunstein Enterprise',\n",
       " 'Jaffilms Inc.',\n",
       " 'Jean Doumanian Productions',\n",
       " 'Jeepers Creepers II',\n",
       " 'Jerry Bruckheimer Films',\n",
       " 'Jerry Weintraub Productions',\n",
       " 'Jersey Films',\n",
       " 'Jessie Nelson Productions',\n",
       " 'Jet Tone Production',\n",
       " 'Jim Henson Company, The',\n",
       " 'Jinks/Cohen Company',\n",
       " 'John US Productions',\n",
       " 'John Wells Productions',\n",
       " 'Jolie Pas',\n",
       " 'Jon Shestack Productions',\n",
       " 'Jonathan Krane Group',\n",
       " 'Joseph Nittolo Entertainment',\n",
       " 'Josephson Entertainment',\n",
       " 'Jouror Productions',\n",
       " 'Junction Entertainment',\n",
       " 'K. JAM Media',\n",
       " 'K/O Camera Toys',\n",
       " 'K/O Paper Products',\n",
       " 'K5 International',\n",
       " 'KC Medien',\n",
       " 'KC Medien AG',\n",
       " 'KMP Film Invest',\n",
       " 'Kalima Productions GmbH & Co. KG',\n",
       " 'Kalis Productions GmbH & Co. Zweite KG',\n",
       " 'Kanbar Entertainment',\n",
       " 'Kanzaman',\n",
       " 'Kaplan/Perrone Entertainment',\n",
       " 'Karz Entertainment',\n",
       " 'Kasdan Pictures',\n",
       " 'Katalyst Films',\n",
       " 'Katira Productions GmbH & Co. KG',\n",
       " 'Kemp Company',\n",
       " 'Kenio Films',\n",
       " 'Kennedy Miller Mitchell',\n",
       " 'Kennedy Miller Productions',\n",
       " 'Kennedy/Marshall Company, The',\n",
       " 'Kerner Entertainment Company',\n",
       " 'Kernos Filmproduktionsgesellschaft & Company',\n",
       " 'Kevin Messick Productions',\n",
       " 'Key Creatives',\n",
       " 'Kickstart Productions',\n",
       " 'Kilburn Media',\n",
       " 'Killer Films',\n",
       " 'Kinematograf Wien',\n",
       " 'Kingdom Feature Productions',\n",
       " 'Kingsgate Films',\n",
       " 'Kintop Pictures',\n",
       " 'KirchMedia',\n",
       " 'Knightsbridge Entertainment',\n",
       " 'Konami',\n",
       " 'Konami Corporation Ltd.',\n",
       " 'Konrad Pictures',\n",
       " 'Kontsept Film Company',\n",
       " 'Kopelson Entertainment',\n",
       " 'Kramer & Sigman Films',\n",
       " 'Krane Entertainment',\n",
       " 'Kumar Mobiliengesellschaft mbH & Co. Projekt Nr. 1 KG',\n",
       " 'Kumar Mobiliengesellschaft mbH & Co. Projekt Nr. 2 KG',\n",
       " 'Kumar Mobiliengesellschaft mbH & Co. Projekt Nr. 3 KG',\n",
       " 'Kurtzman/Orci',\n",
       " 'LBI Entertainment',\n",
       " 'LBI Productions',\n",
       " 'LD Entertainment',\n",
       " 'LGM Productions',\n",
       " 'LStar Capital',\n",
       " 'La Petite Reine',\n",
       " 'Lago Film',\n",
       " 'Laika Entertainment',\n",
       " 'Lakeshore Entertainment',\n",
       " 'Land Films Inc.',\n",
       " 'Landscape Entertainment',\n",
       " 'Langley Park Production',\n",
       " 'Langley Productions',\n",
       " 'Las Producciones del Escorpion',\n",
       " 'Latitude Media',\n",
       " 'Laura Bickford Productions',\n",
       " 'Laura Ziskin Productions',\n",
       " 'Lauren Levine Productions Inc.',\n",
       " 'Laurence Mark Productions',\n",
       " 'Laurinfilm',\n",
       " 'Lawrence Bender Productions',\n",
       " 'Lawrence Gordon Productions',\n",
       " 'Lazio Film Commission',\n",
       " 'Le Grisbi Productions',\n",
       " 'Le Pacte',\n",
       " 'Le Tax Shelter du Gouvernement FÃ©dÃ©ral de Belgique',\n",
       " 'Lee Daniels Entertainment',\n",
       " 'Left Tackle Pictures',\n",
       " 'Legendary Pictures',\n",
       " 'Lennox House Films',\n",
       " 'Les Films Alain Sarde',\n",
       " 'Les Productions du TrÃ©sor',\n",
       " 'Level 1 Entertainment',\n",
       " 'Leverage Management',\n",
       " 'Liaison Films',\n",
       " 'Liberty Films UK',\n",
       " 'Liddell Entertainment',\n",
       " 'Lietuvos Kinostudija',\n",
       " 'LightWorkers Media',\n",
       " 'Lightstorm Entertainment',\n",
       " 'Likely Story',\n",
       " 'Limelight Fund',\n",
       " 'Limited Edition Productions Inc.',\n",
       " 'Lin Pictures',\n",
       " 'Linsefilm',\n",
       " 'Linson Entertainment',\n",
       " 'Lion Rock Productions',\n",
       " 'Lions Gate',\n",
       " 'Lions Gate Family Entertainment',\n",
       " 'Lions Gate Films',\n",
       " 'LionsGate',\n",
       " 'Lionsgate',\n",
       " 'Lip Sync Post',\n",
       " 'Lipsync Productions',\n",
       " 'Little Bird',\n",
       " 'Little Stranger',\n",
       " 'Littlestar',\n",
       " 'LivePlanet',\n",
       " 'Liveplanet',\n",
       " 'Living Films',\n",
       " 'Location Gourmet',\n",
       " 'London Boulevard',\n",
       " 'Lone Runner Entertainment',\n",
       " 'Lonely Film Productions GmbH & Co. KG.',\n",
       " 'Long Distance Films',\n",
       " 'Loofah Productions',\n",
       " 'Lou Yi Inc.',\n",
       " 'Loumolo & Co.',\n",
       " 'Lucamar Productions',\n",
       " 'Lucasfilm',\n",
       " 'Lucasfilm Ltd.',\n",
       " 'Lucky Monkey Pictures',\n",
       " 'Lucky Red',\n",
       " 'Ludlum Entertainment',\n",
       " 'Luna Pictures',\n",
       " 'Lunar Industries',\n",
       " 'Lynda Obst Productions',\n",
       " 'M Productions',\n",
       " 'M6 Films',\n",
       " 'MBC Beteiligungs Filmproduktion',\n",
       " 'MDBF Filmgesellschaft mbH & Company KG',\n",
       " 'MDBF Zweite Filmgesellschaft',\n",
       " 'MDP Worldwide',\n",
       " 'MFP Munich Film Partners',\n",
       " 'MFPV Film',\n",
       " 'MHF Zweite Academy Film',\n",
       " 'MI 3 Film',\n",
       " 'MICA Entertainment',\n",
       " 'MID Foundation',\n",
       " 'MIRACLE Productions GmbH & Co. KG',\n",
       " 'MJW Films',\n",
       " 'MMCB Film Produktion 2004',\n",
       " 'MPH Entertainment',\n",
       " 'MTV Films',\n",
       " 'MVL Incredible Productions',\n",
       " 'MacDonald/Parkes Productions',\n",
       " 'Mace Neufeld Productions',\n",
       " 'Mad Chance',\n",
       " 'Mad Chance Productions',\n",
       " 'Mad Hatter Entertainment',\n",
       " 'Madacy Entertainment',\n",
       " 'Madhouse Entertainment',\n",
       " 'Madison 23',\n",
       " 'Magic Light Pictures',\n",
       " 'Magical Elves Productions',\n",
       " 'Maguire Entertainment',\n",
       " 'Mainframe Entertainment',\n",
       " 'Major Studio Partners',\n",
       " 'Malpaso Productions',\n",
       " 'Management 360',\n",
       " 'Mandalay Pictures',\n",
       " 'Mandalay Vision',\n",
       " 'Mandate Pictures',\n",
       " 'Mandeville Films',\n",
       " 'Mango Farms',\n",
       " 'Manitoba Film and Video Production Tax Credit',\n",
       " 'Many Rivers Productions',\n",
       " 'Maple Shade Films',\n",
       " 'Marc Platt Productions',\n",
       " 'Mark Canton Productions',\n",
       " 'Mark Gordon Productions',\n",
       " 'Mark Johnson Productions',\n",
       " 'Mars Distribution',\n",
       " 'Mars Media Beteiligungs',\n",
       " 'Mars Production Pty. Ltd.',\n",
       " 'Marshall Production',\n",
       " ...]"
      ]
     },
     "execution_count": 46,
     "metadata": {},
     "output_type": "execute_result"
    }
   ],
   "source": [
    "# Список всех студий\n",
    "studios = get_all_column_values(data, 'production_companies')\n",
    "sorted(studios)"
   ]
  },
  {
   "cell_type": "code",
   "execution_count": 47,
   "metadata": {},
   "outputs": [
    {
     "data": {
      "text/plain": [
       "('Universal Pictures (Universal)', 175)"
      ]
     },
     "execution_count": 47,
     "metadata": {},
     "output_type": "execute_result"
    }
   ],
   "source": [
    "studios_1 = ['Universal Pictures', 'Paramount Pictures', 'Columbia Pictures', 'Warner Bros.', 'Twentieth Century Fox Film Corporation']\n",
    "studio_films_counter = []\n",
    "\n",
    "for studio in studios_1:\n",
    "    if studio != 'Universal Pictures':\n",
    "        studio_films_counter.append([studio, len(data[~(data['production_companies'].str.contains('{} '.format(studio))) & (data['production_companies'].str.contains(studio))])])\n",
    "    else:\n",
    "        studio_films_counter.append(('Universal Pictures (Universal)', len(data[~(data['production_companies'].str.contains('Universal Pictures ')) & (data['production_companies'].str.contains('Universal Pictures'))]) + len(data[data['production_companies'].str.contains('Universal\\|')])))\n",
    "# display(studio_films_counter)\n",
    "ans_20 = sorted(studio_films_counter, key=sort_for_sec, reverse=True)[0]\n",
    "ans_20"
   ]
  },
  {
   "cell_type": "code",
   "execution_count": 48,
   "metadata": {},
   "outputs": [],
   "source": [
    "answer_ls.append(1)"
   ]
  },
  {
   "cell_type": "markdown",
   "metadata": {},
   "source": [
    "# 21. Какая студия сняла больше всего фильмов в 2015 году?\n",
    "Варианты ответа:\n",
    "1. Universal Pictures\n",
    "2. Paramount Pictures\n",
    "3. Columbia Pictures\n",
    "4. Warner Bros\n",
    "5. Twentieth Century Fox Film Corporation"
   ]
  },
  {
   "cell_type": "code",
   "execution_count": 49,
   "metadata": {},
   "outputs": [
    {
     "data": {
      "text/plain": [
       "['Warner Bros.', 12]"
      ]
     },
     "execution_count": 49,
     "metadata": {},
     "output_type": "execute_result"
    }
   ],
   "source": [
    "studios_2 = ['Universal Pictures', 'Paramount Pictures', 'Columbia Pictures', 'Warner Bros.', 'Twentieth Century Fox Film Corporation']\n",
    "studio_films_2015_counter = []\n",
    "\n",
    "for studio in studios_2:\n",
    "    if studio != 'Universal Pictures':\n",
    "        studio_films_2015_counter.append([studio, len(data[~(data['production_companies'].str.contains('{} '.format(studio))) & (data['production_companies'].str.contains(studio)) & (data['release_year'] == 2015)])])\n",
    "    else:\n",
    "        studio_films_2015_counter.append(['Universal Pictures (Universal)', len(data[~(data['production_companies'].str.contains('Universal Pictures ')) & (data['production_companies'].str.contains('Universal Pictures')) & (data['release_year'] == 2015)]) + len(data[(data['production_companies'].str.contains('Universal\\|') & (data['release_year'] == 2015))])])\n",
    "# display(studio_films_2015_counter)\n",
    "ans_21 = sorted(studio_films_2015_counter, key=sort_for_sec, reverse=True)[0]\n",
    "ans_21"
   ]
  },
  {
   "cell_type": "code",
   "execution_count": 50,
   "metadata": {},
   "outputs": [],
   "source": [
    "answer_ls.append(4)"
   ]
  },
  {
   "cell_type": "markdown",
   "metadata": {},
   "source": [
    "# 22. Какая студия заработала больше всего денег в жанре комедий за все время?\n",
    "Варианты ответа:\n",
    "1. Warner Bros\n",
    "2. Universal Pictures (Universal)\n",
    "3. Columbia Pictures\n",
    "4. Paramount Pictures\n",
    "5. Walt Disney"
   ]
  },
  {
   "cell_type": "code",
   "execution_count": 51,
   "metadata": {},
   "outputs": [
    {
     "data": {
      "text/plain": [
       "['Universal Pictures (Universal)', 8961545581]"
      ]
     },
     "execution_count": 51,
     "metadata": {},
     "output_type": "execute_result"
    }
   ],
   "source": [
    "studios_3 = ['Warner Bros.', 'Universal Pictures', 'Columbia Pictures', 'Paramount Pictures', 'Walt Disney']\n",
    "studio_films_comedy_profit = []\n",
    "\n",
    "for studio in studios_3:\n",
    "    if studio != 'Universal Pictures':\n",
    "        studio_films_comedy_profit.append([studio, data[~(data['production_companies'].str.contains('{} '.format(studio))) & (data['production_companies'].str.contains(studio)) & (data['genres'].str.contains('Comedy'))]['profit'].sum()])\n",
    "    else:\n",
    "        studio_films_comedy_profit.append(['Universal Pictures (Universal)', data[~(data['production_companies'].str.contains('Universal Pictures ')) & (data['production_companies'].str.contains('Universal Pictures')) & (data['genres'].str.contains('Comedy'))]['profit'].sum() + data[(data['production_companies'].str.contains('Universal\\|') & (data['genres'].str.contains('Comedy')))]['profit'].sum()])\n",
    "# display(studio_films_comedy_profit)\n",
    "ans_22 = sorted(studio_films_comedy_profit, key=sort_for_sec, reverse=True)[0]\n",
    "ans_22"
   ]
  },
  {
   "cell_type": "code",
   "execution_count": 52,
   "metadata": {},
   "outputs": [],
   "source": [
    "answer_ls.append(2)"
   ]
  },
  {
   "cell_type": "markdown",
   "metadata": {},
   "source": [
    "# 23. Какая студия заработала больше всего денег в 2012 году?\n",
    "Варианты ответа:\n",
    "1. Universal Pictures (Universal)\n",
    "2. Warner Bros\n",
    "3. Columbia Pictures\n",
    "4. Paramount Pictures\n",
    "5. Lucasfilm"
   ]
  },
  {
   "cell_type": "code",
   "execution_count": 53,
   "metadata": {},
   "outputs": [
    {
     "data": {
      "text/plain": [
       "['Columbia Pictures', 2501406608]"
      ]
     },
     "execution_count": 53,
     "metadata": {},
     "output_type": "execute_result"
    }
   ],
   "source": [
    "studios_4 = ['Universal Pictures', 'Warner Bros.', 'Columbia Pictures', 'Paramount Pictures', 'Lucasfilm']\n",
    "studio_films_2012_profit = []\n",
    "\n",
    "for studio in studios_4:\n",
    "    if studio != 'Universal Pictures':\n",
    "        studio_films_2012_profit.append([studio, data[~(data['production_companies'].str.contains('{} '.format(studio))) & (data['production_companies'].str.contains(studio)) & (data['release_year'] == 2012)]['profit'].sum()])\n",
    "    else:\n",
    "        studio_films_2012_profit.append(['Universal Pictures (Universal)', data[~(data['production_companies'].str.contains('Universal Pictures ')) & (data['production_companies'].str.contains('Universal Pictures')) & (data['release_year'] == 2012)]['profit'].sum() + data[(data['production_companies'].str.contains('Universal\\|') & (data['release_year'] == 2012))]['profit'].sum()])\n",
    "# display(studio_films_2012_profit)\n",
    "ans_23 = sorted(studio_films_2012_profit, key=sort_for_sec, reverse=True)[0]\n",
    "ans_23"
   ]
  },
  {
   "cell_type": "code",
   "execution_count": 54,
   "metadata": {},
   "outputs": [],
   "source": [
    "answer_ls.append(3)"
   ]
  },
  {
   "cell_type": "markdown",
   "metadata": {},
   "source": [
    "# 24. Самый убыточный фильм от Paramount Pictures\n",
    "Варианты ответа:\n",
    "\n",
    "1. K-19: The Widowmaker tt0267626\n",
    "2. Next tt0435705\n",
    "3. Twisted tt0315297\n",
    "4. The Love Guru tt0811138\n",
    "5. The Fighter tt0964517"
   ]
  },
  {
   "cell_type": "code",
   "execution_count": 55,
   "metadata": {},
   "outputs": [
    {
     "data": {
      "text/plain": [
       "926    K-19: The Widowmaker\n",
       "Name: original_title, dtype: object"
      ]
     },
     "metadata": {},
     "output_type": "display_data"
    }
   ],
   "source": [
    "paramount_loss_film = data[data['production_companies'].str.contains('Paramount Pictures')][['imdb_id', 'original_title', 'production_companies', 'profit']].sort_values(['profit']).head(1)\n",
    "ans_24 = paramount_loss_film['original_title']\n",
    "display(ans_24)"
   ]
  },
  {
   "cell_type": "code",
   "execution_count": 56,
   "metadata": {},
   "outputs": [],
   "source": [
    "answer_ls.append(1)"
   ]
  },
  {
   "cell_type": "markdown",
   "metadata": {},
   "source": [
    "# 25. Какой Самый прибыльный год (заработали больше всего)?\n",
    "Варианты ответа:\n",
    "1. 2014\n",
    "2. 2008\n",
    "3. 2012\n",
    "4. 2002\n",
    "5. 2015"
   ]
  },
  {
   "cell_type": "code",
   "execution_count": 57,
   "metadata": {},
   "outputs": [
    {
     "data": {
      "text/plain": [
       "release_year\n",
       "2015    18668572378\n",
       "Name: profit, dtype: int64"
      ]
     },
     "metadata": {},
     "output_type": "display_data"
    }
   ],
   "source": [
    "profit_years = data.groupby(['release_year'])['profit'].sum().sort_values(ascending=False)\n",
    "ans_25 = profit_years.head(1)\n",
    "display(ans_25)"
   ]
  },
  {
   "cell_type": "code",
   "execution_count": 58,
   "metadata": {},
   "outputs": [],
   "source": [
    "answer_ls.append(5)"
   ]
  },
  {
   "cell_type": "markdown",
   "metadata": {},
   "source": [
    "# 26. Какой Самый прибыльный год для студии Warner Bros?\n",
    "Варианты ответа:\n",
    "1. 2014\n",
    "2. 2008\n",
    "3. 2012\n",
    "4. 2010\n",
    "5. 2015"
   ]
  },
  {
   "cell_type": "code",
   "execution_count": 59,
   "metadata": {},
   "outputs": [
    {
     "data": {
      "text/plain": [
       "release_year\n",
       "2014    2295464519\n",
       "Name: profit, dtype: int64"
      ]
     },
     "metadata": {},
     "output_type": "display_data"
    }
   ],
   "source": [
    "warnerbros_profit_years = data[data['production_companies'].str.contains('Warner Bros')].groupby(['release_year'])['profit'].sum().sort_values(ascending=False)\n",
    "ans_26 = warnerbros_profit_years.head(1)\n",
    "display(ans_26)"
   ]
  },
  {
   "cell_type": "code",
   "execution_count": 60,
   "metadata": {},
   "outputs": [],
   "source": [
    "answer_ls.append(1)"
   ]
  },
  {
   "cell_type": "markdown",
   "metadata": {},
   "source": [
    "# 27. В каком месяце за все годы суммарно вышло больше всего фильмов?\n",
    "Варианты ответа:\n",
    "1. Январь\n",
    "2. Июнь\n",
    "3. Декабрь\n",
    "4. Сентябрь\n",
    "5. Май"
   ]
  },
  {
   "cell_type": "code",
   "execution_count": 61,
   "metadata": {},
   "outputs": [
    {
     "data": {
      "text/plain": [
       "release_month\n",
       "9    227\n",
       "Name: imdb_id, dtype: int64"
      ]
     },
     "metadata": {},
     "output_type": "display_data"
    }
   ],
   "source": [
    "release_num_months = data.groupby(['release_month'])['imdb_id'].nunique().sort_values(ascending=False)\n",
    "ans_27 = release_num_months.head(1)\n",
    "display(ans_27)"
   ]
  },
  {
   "cell_type": "code",
   "execution_count": 62,
   "metadata": {},
   "outputs": [],
   "source": [
    "answer_ls.append(4)"
   ]
  },
  {
   "cell_type": "markdown",
   "metadata": {},
   "source": [
    "# 28. Сколько суммарно вышло фильмов летом? (за июнь, июль, август)\n",
    "Варианты ответа:\n",
    "1. 345\n",
    "2. 450\n",
    "3. 478\n",
    "4. 523\n",
    "5. 381"
   ]
  },
  {
   "cell_type": "code",
   "execution_count": 63,
   "metadata": {},
   "outputs": [
    {
     "data": {
      "text/plain": [
       "450"
      ]
     },
     "metadata": {},
     "output_type": "display_data"
    }
   ],
   "source": [
    "data_mounth_groups = data.groupby(['release_month'])['imdb_id'].nunique().sort_values()\n",
    "ans_28 = data_mounth_groups[['6', '7', '8']].sum()\n",
    "display(ans_28)"
   ]
  },
  {
   "cell_type": "code",
   "execution_count": 64,
   "metadata": {},
   "outputs": [],
   "source": [
    "answer_ls.append(2)"
   ]
  },
  {
   "cell_type": "markdown",
   "metadata": {},
   "source": [
    "# 29. Какой режисер выпускает (суммарно по годам) больше всего фильмов зимой?\n",
    "Варианты ответов:\n",
    "1. Steven Soderbergh\n",
    "2. Christopher Nolan\n",
    "3. Clint Eastwood\n",
    "4. Ridley Scott\n",
    "5. Peter Jackson"
   ]
  },
  {
   "cell_type": "code",
   "execution_count": 65,
   "metadata": {},
   "outputs": [
    {
     "data": {
      "text/html": [
       "<div>\n",
       "<style scoped>\n",
       "    .dataframe tbody tr th:only-of-type {\n",
       "        vertical-align: middle;\n",
       "    }\n",
       "\n",
       "    .dataframe tbody tr th {\n",
       "        vertical-align: top;\n",
       "    }\n",
       "\n",
       "    .dataframe thead th {\n",
       "        text-align: right;\n",
       "    }\n",
       "</style>\n",
       "<table border=\"1\" class=\"dataframe\">\n",
       "  <thead>\n",
       "    <tr style=\"text-align: right;\">\n",
       "      <th></th>\n",
       "      <th>director</th>\n",
       "      <th>imdb_id</th>\n",
       "    </tr>\n",
       "  </thead>\n",
       "  <tbody>\n",
       "    <tr>\n",
       "      <td>330</td>\n",
       "      <td>Steven Soderbergh</td>\n",
       "      <td>6</td>\n",
       "    </tr>\n",
       "  </tbody>\n",
       "</table>\n",
       "</div>"
      ],
      "text/plain": [
       "              director  imdb_id\n",
       "330  Steven Soderbergh        6"
      ]
     },
     "metadata": {},
     "output_type": "display_data"
    },
    {
     "data": {
      "text/html": [
       "<div>\n",
       "<style scoped>\n",
       "    .dataframe tbody tr th:only-of-type {\n",
       "        vertical-align: middle;\n",
       "    }\n",
       "\n",
       "    .dataframe tbody tr th {\n",
       "        vertical-align: top;\n",
       "    }\n",
       "\n",
       "    .dataframe thead th {\n",
       "        text-align: right;\n",
       "    }\n",
       "</style>\n",
       "<table border=\"1\" class=\"dataframe\">\n",
       "  <thead>\n",
       "    <tr style=\"text-align: right;\">\n",
       "      <th></th>\n",
       "      <th>director</th>\n",
       "      <th>imdb_id</th>\n",
       "    </tr>\n",
       "  </thead>\n",
       "  <tbody>\n",
       "  </tbody>\n",
       "</table>\n",
       "</div>"
      ],
      "text/plain": [
       "Empty DataFrame\n",
       "Columns: [director, imdb_id]\n",
       "Index: []"
      ]
     },
     "metadata": {},
     "output_type": "display_data"
    },
    {
     "data": {
      "text/html": [
       "<div>\n",
       "<style scoped>\n",
       "    .dataframe tbody tr th:only-of-type {\n",
       "        vertical-align: middle;\n",
       "    }\n",
       "\n",
       "    .dataframe tbody tr th {\n",
       "        vertical-align: top;\n",
       "    }\n",
       "\n",
       "    .dataframe thead th {\n",
       "        text-align: right;\n",
       "    }\n",
       "</style>\n",
       "<table border=\"1\" class=\"dataframe\">\n",
       "  <thead>\n",
       "    <tr style=\"text-align: right;\">\n",
       "      <th></th>\n",
       "      <th>director</th>\n",
       "      <th>imdb_id</th>\n",
       "    </tr>\n",
       "  </thead>\n",
       "  <tbody>\n",
       "    <tr>\n",
       "      <td>331</td>\n",
       "      <td>Clint Eastwood</td>\n",
       "      <td>6</td>\n",
       "    </tr>\n",
       "  </tbody>\n",
       "</table>\n",
       "</div>"
      ],
      "text/plain": [
       "           director  imdb_id\n",
       "331  Clint Eastwood        6"
      ]
     },
     "metadata": {},
     "output_type": "display_data"
    },
    {
     "data": {
      "text/html": [
       "<div>\n",
       "<style scoped>\n",
       "    .dataframe tbody tr th:only-of-type {\n",
       "        vertical-align: middle;\n",
       "    }\n",
       "\n",
       "    .dataframe tbody tr th {\n",
       "        vertical-align: top;\n",
       "    }\n",
       "\n",
       "    .dataframe thead th {\n",
       "        text-align: right;\n",
       "    }\n",
       "</style>\n",
       "<table border=\"1\" class=\"dataframe\">\n",
       "  <thead>\n",
       "    <tr style=\"text-align: right;\">\n",
       "      <th></th>\n",
       "      <th>director</th>\n",
       "      <th>imdb_id</th>\n",
       "    </tr>\n",
       "  </thead>\n",
       "  <tbody>\n",
       "    <tr>\n",
       "      <td>323</td>\n",
       "      <td>Ridley Scott</td>\n",
       "      <td>3</td>\n",
       "    </tr>\n",
       "  </tbody>\n",
       "</table>\n",
       "</div>"
      ],
      "text/plain": [
       "         director  imdb_id\n",
       "323  Ridley Scott        3"
      ]
     },
     "metadata": {},
     "output_type": "display_data"
    },
    {
     "data": {
      "text/html": [
       "<div>\n",
       "<style scoped>\n",
       "    .dataframe tbody tr th:only-of-type {\n",
       "        vertical-align: middle;\n",
       "    }\n",
       "\n",
       "    .dataframe tbody tr th {\n",
       "        vertical-align: top;\n",
       "    }\n",
       "\n",
       "    .dataframe thead th {\n",
       "        text-align: right;\n",
       "    }\n",
       "</style>\n",
       "<table border=\"1\" class=\"dataframe\">\n",
       "  <thead>\n",
       "    <tr style=\"text-align: right;\">\n",
       "      <th></th>\n",
       "      <th>director</th>\n",
       "      <th>imdb_id</th>\n",
       "    </tr>\n",
       "  </thead>\n",
       "  <tbody>\n",
       "    <tr>\n",
       "      <td>332</td>\n",
       "      <td>Peter Jackson</td>\n",
       "      <td>7</td>\n",
       "    </tr>\n",
       "  </tbody>\n",
       "</table>\n",
       "</div>"
      ],
      "text/plain": [
       "          director  imdb_id\n",
       "332  Peter Jackson        7"
      ]
     },
     "metadata": {},
     "output_type": "display_data"
    }
   ],
   "source": [
    "data_mounth_groups = data[(data['release_month'] == '12') | (data['release_month'] == '1') | (data['release_month'] == '2')].groupby(['director'])['imdb_id'].nunique().sort_values().reset_index()\n",
    "winter_directors = ['Steven Soderbergh', 'Christopher Nolan', 'Clint Eastwood', 'Ridley Scott', 'Peter Jackson']\n",
    "for director in winter_directors:\n",
    "    display(data_mounth_groups[data_mounth_groups['director'].str.contains(director)])\n",
    "ans_29 = 'Peter Jackson'"
   ]
  },
  {
   "cell_type": "code",
   "execution_count": 66,
   "metadata": {},
   "outputs": [],
   "source": [
    "answer_ls.append(5)"
   ]
  },
  {
   "cell_type": "markdown",
   "metadata": {},
   "source": [
    "# 30. Какой месяц чаще всего по годам самый прибыльный?\n",
    "Варианты ответа:\n",
    "1. Январь\n",
    "2. Июнь\n",
    "3. Декабрь\n",
    "4. Сентябрь\n",
    "5. Май"
   ]
  },
  {
   "cell_type": "code",
   "execution_count": 67,
   "metadata": {},
   "outputs": [
    {
     "data": {
      "text/plain": [
       "'6'"
      ]
     },
     "metadata": {},
     "output_type": "display_data"
    }
   ],
   "source": [
    "data_month_and_year_profit = data.groupby(['release_month', 'release_year'])['profit'].sum().reset_index()\n",
    "top_months_counter = Counter()\n",
    "for i in range(2000, 2016):\n",
    "    top_months_counter[data_month_and_year_profit[data_month_and_year_profit['release_year'] == i].sort_values(['profit'], ascending=False).head(1)['release_month'].max()] += 1\n",
    "ans_30 = sorted(top_months_counter.most_common(), key=sort_for_sec, reverse=True)[0][0]\n",
    "display(ans_30)"
   ]
  },
  {
   "cell_type": "code",
   "execution_count": 68,
   "metadata": {},
   "outputs": [],
   "source": [
    "answer_ls.append(2)"
   ]
  },
  {
   "cell_type": "markdown",
   "metadata": {},
   "source": [
    "# 31. Названия фильмов какой студии в среднем самые длинные по количеству символов?\n",
    "Варианты ответа:\n",
    "1. Universal Pictures (Universal)\n",
    "2. Warner Bros\n",
    "3. Jim Henson Company, The\n",
    "4. Paramount Pictures\n",
    "5. Four By Two Productions"
   ]
  },
  {
   "cell_type": "code",
   "execution_count": 69,
   "metadata": {},
   "outputs": [
    {
     "data": {
      "text/plain": [
       "'Four By Two Productions'"
      ]
     },
     "metadata": {},
     "output_type": "display_data"
    }
   ],
   "source": [
    "company_long_letter_title = []\n",
    "for production_company in ('Universal Pictures', 'Warner Bros', 'Jim Henson Company, The', 'Paramount Pictures', 'Four By Two Productions'):\n",
    "    company_long_letter_title.append((production_company, data[(data['production_companies'].str.contains(production_company))]['title_letter_count'].mean()))\n",
    "ans_31 = sorted(company_long_letter_title, key=sort_for_sec, reverse=True)[0][0]\n",
    "display(ans_31)"
   ]
  },
  {
   "cell_type": "code",
   "execution_count": 70,
   "metadata": {},
   "outputs": [],
   "source": [
    "answer_ls.append(5)"
   ]
  },
  {
   "cell_type": "markdown",
   "metadata": {},
   "source": [
    "# 32. Названия фильмов какой студии в среднем самые длинные по количеству слов?\n",
    "Варианты ответа:\n",
    "1. Universal Pictures (Universal)\n",
    "2. Warner Bros\n",
    "3. Jim Henson Company, The\n",
    "4. Paramount Pictures\n",
    "5. Four By Two Productions"
   ]
  },
  {
   "cell_type": "code",
   "execution_count": 71,
   "metadata": {},
   "outputs": [
    {
     "data": {
      "text/plain": [
       "'Four By Two Productions'"
      ]
     },
     "metadata": {},
     "output_type": "display_data"
    }
   ],
   "source": [
    "company_long_word_title = []\n",
    "for production_company in ('Universal Pictures', 'Warner Bros', 'Jim Henson Company, The', 'Paramount Pictures', 'Four By Two Productions'):\n",
    "    company_long_word_title.append((production_company, data[(data['production_companies'].str.contains(production_company))]['title_word_count'].mean()))\n",
    "ans_32 = sorted(company_long_word_title, key=sort_for_sec, reverse=True)[0][0]\n",
    "display(ans_32)"
   ]
  },
  {
   "cell_type": "code",
   "execution_count": 72,
   "metadata": {},
   "outputs": [],
   "source": [
    "answer_ls.append(5)"
   ]
  },
  {
   "cell_type": "markdown",
   "metadata": {},
   "source": [
    "# 33. Сколько разных слов используется в названиях фильмов?(без учета регистра)\n",
    "Варианты ответа:\n",
    "1. 6540\n",
    "2. 1002\n",
    "3. 2461\n",
    "4. 28304\n",
    "5. 3432"
   ]
  },
  {
   "cell_type": "code",
   "execution_count": 73,
   "metadata": {},
   "outputs": [
    {
     "data": {
      "text/plain": [
       "2462"
      ]
     },
     "execution_count": 73,
     "metadata": {},
     "output_type": "execute_result"
    }
   ],
   "source": [
    "# 33. Сколько разных слов используется в названиях фильмов (без учета регистра)?\n",
    "pattern = re.compile('\\w+')\n",
    "words_set = set()\n",
    "for title in data['original_title'].values:\n",
    "    title_list = title.split(' ')\n",
    "    for word in title_list:\n",
    "        word = word.lower()\n",
    "        words_set.add(word)\n",
    "len(words_set)"
   ]
  },
  {
   "cell_type": "code",
   "execution_count": 74,
   "metadata": {},
   "outputs": [],
   "source": [
    "answer_ls.append(3)"
   ]
  },
  {
   "cell_type": "markdown",
   "metadata": {},
   "source": [
    "# 34. Какие фильмы входят в 1 процент лучших по рейтингу?\n",
    "Варианты ответа:\n",
    "1. Inside Out, Gone Girl, 12 Years a Slave\n",
    "2. BloodRayne, The Adventures of Rocky & Bullwinkle\n",
    "3. <del>The Lord of the Rings: The Return of the King</del> The Lord of the Rings: The Return of the King, Upside Down\n",
    "4. 300, Lucky Number Slevin\n",
    "5. <strong>Upside Down, 300, Inside Out, The Lord of the Rings: The Return of the King</strong> (вариант ответа отсуствовал в ноутбуке)"
   ]
  },
  {
   "cell_type": "code",
   "execution_count": 75,
   "metadata": {},
   "outputs": [],
   "source": [
    "top1_num = int(len(data) * 0.01)\n",
    "data_top1 = data.sort_values(['vote_average'], ascending=False).head(top1_num)\n",
    "data_top1['original_title']\n",
    "ans_34 = 'Inside Out, Gone Girl, 12 Years a Slave'"
   ]
  },
  {
   "cell_type": "code",
   "execution_count": 76,
   "metadata": {},
   "outputs": [],
   "source": [
    "answer_ls.append(1)"
   ]
  },
  {
   "cell_type": "markdown",
   "metadata": {},
   "source": [
    "# 35. Какие актеры чаще всего снимаются в одном фильме вместе\n",
    "Варианты ответа:\n",
    "1. Johnny Depp & Helena Bonham Carter\n",
    "2. Hugh Jackman & Ian McKellen\n",
    "3. Vin Diesel & Paul Walker\n",
    "4. Adam Sandler & Kevin James\n",
    "5. Daniel Radcliffe & Rupert Grint"
   ]
  },
  {
   "cell_type": "code",
   "execution_count": 77,
   "metadata": {},
   "outputs": [
    {
     "data": {
      "text/plain": [
       "'Daniel Radcliffe and Rupert Grint'"
      ]
     },
     "metadata": {},
     "output_type": "display_data"
    }
   ],
   "source": [
    "# 35. Какие актёры чаще всего снимаются в одном фильме вместе?\n",
    "actor_pairs = [['Johnny Depp', 'Helena Bonham Carter'], ['Hugh Jackman', 'Ian McKellen'], ['Vin Diesel', 'Paul Walker'], ['Adam Sandler', 'Kevin James'], ['Daniel Radcliffe', 'Rupert Grint']]\n",
    "actor_pairs_counter = []\n",
    "for actor_1, actor_2 in actor_pairs:\n",
    "    actor_pairs_counter.append(('{0} and {1}'.format(actor_1, actor_2), len(data[(data['cast'].str.contains(actor_1)) & (data['cast'].str.contains(actor_2))])))# 6,5,5,5,8\n",
    "ans_35 = sorted(actor_pairs_counter, key=sort_for_sec, reverse=True)[0][0]\n",
    "display(ans_35)"
   ]
  },
  {
   "cell_type": "code",
   "execution_count": 78,
   "metadata": {},
   "outputs": [],
   "source": [
    "answer_ls.append(5)"
   ]
  },
  {
   "cell_type": "markdown",
   "metadata": {},
   "source": [
    "# 36. У какого из режиссеров выше вероятность выпустить фильм в прибыли? (5 баллов)101\n",
    "Варианты ответа:\n",
    "1. Quentin Tarantino\n",
    "2. Steven Soderbergh\n",
    "3. Robert Rodriguez\n",
    "4. Christopher Nolan\n",
    "5. Clint Eastwood"
   ]
  },
  {
   "cell_type": "code",
   "execution_count": 79,
   "metadata": {},
   "outputs": [
    {
     "data": {
      "text/plain": [
       "'Christopher Nolan'"
      ]
     },
     "metadata": {},
     "output_type": "display_data"
    }
   ],
   "source": [
    "directors = ['Quentin Tarantino', 'Steven Soderbergh', 'Robert Rodriguez', 'Christopher Nolan', 'Clint Eastwood']\n",
    "list_of_profit_percent = []\n",
    "for director in directors:\n",
    "    list_of_profit_percent.append((director, true_values_percent(list(data[data['director'].str.contains(director)]['profit_is_not_loss']))))\n",
    "list_of_profit_percent.sort(key=sort_for_sec, reverse=True); list_of_profit_percent\n",
    "ans_36 = list_of_profit_percent[0][0]\n",
    "display(ans_36)"
   ]
  },
  {
   "cell_type": "code",
   "execution_count": 80,
   "metadata": {},
   "outputs": [],
   "source": [
    "answer_ls.append(4)"
   ]
  },
  {
   "cell_type": "markdown",
   "metadata": {},
   "source": [
    "# Submission"
   ]
  },
  {
   "cell_type": "code",
   "execution_count": 81,
   "metadata": {},
   "outputs": [
    {
     "data": {
      "text/plain": [
       "36"
      ]
     },
     "execution_count": 81,
     "metadata": {},
     "output_type": "execute_result"
    }
   ],
   "source": [
    "len(answer_ls)"
   ]
  },
  {
   "cell_type": "code",
   "execution_count": 82,
   "metadata": {},
   "outputs": [
    {
     "data": {
      "text/html": [
       "<div>\n",
       "<style scoped>\n",
       "    .dataframe tbody tr th:only-of-type {\n",
       "        vertical-align: middle;\n",
       "    }\n",
       "\n",
       "    .dataframe tbody tr th {\n",
       "        vertical-align: top;\n",
       "    }\n",
       "\n",
       "    .dataframe thead th {\n",
       "        text-align: right;\n",
       "    }\n",
       "</style>\n",
       "<table border=\"1\" class=\"dataframe\">\n",
       "  <thead>\n",
       "    <tr style=\"text-align: right;\">\n",
       "      <th></th>\n",
       "      <th>Id</th>\n",
       "      <th>Answer</th>\n",
       "    </tr>\n",
       "  </thead>\n",
       "  <tbody>\n",
       "    <tr>\n",
       "      <td>0</td>\n",
       "      <td>1</td>\n",
       "      <td>4</td>\n",
       "    </tr>\n",
       "    <tr>\n",
       "      <td>1</td>\n",
       "      <td>2</td>\n",
       "      <td>2</td>\n",
       "    </tr>\n",
       "    <tr>\n",
       "      <td>2</td>\n",
       "      <td>3</td>\n",
       "      <td>3</td>\n",
       "    </tr>\n",
       "    <tr>\n",
       "      <td>3</td>\n",
       "      <td>4</td>\n",
       "      <td>2</td>\n",
       "    </tr>\n",
       "    <tr>\n",
       "      <td>4</td>\n",
       "      <td>5</td>\n",
       "      <td>1</td>\n",
       "    </tr>\n",
       "    <tr>\n",
       "      <td>5</td>\n",
       "      <td>6</td>\n",
       "      <td>5</td>\n",
       "    </tr>\n",
       "    <tr>\n",
       "      <td>6</td>\n",
       "      <td>7</td>\n",
       "      <td>2</td>\n",
       "    </tr>\n",
       "    <tr>\n",
       "      <td>7</td>\n",
       "      <td>8</td>\n",
       "      <td>1</td>\n",
       "    </tr>\n",
       "    <tr>\n",
       "      <td>8</td>\n",
       "      <td>9</td>\n",
       "      <td>4</td>\n",
       "    </tr>\n",
       "    <tr>\n",
       "      <td>9</td>\n",
       "      <td>10</td>\n",
       "      <td>5</td>\n",
       "    </tr>\n",
       "    <tr>\n",
       "      <td>10</td>\n",
       "      <td>11</td>\n",
       "      <td>3</td>\n",
       "    </tr>\n",
       "    <tr>\n",
       "      <td>11</td>\n",
       "      <td>12</td>\n",
       "      <td>1</td>\n",
       "    </tr>\n",
       "    <tr>\n",
       "      <td>12</td>\n",
       "      <td>13</td>\n",
       "      <td>3</td>\n",
       "    </tr>\n",
       "    <tr>\n",
       "      <td>13</td>\n",
       "      <td>14</td>\n",
       "      <td>4</td>\n",
       "    </tr>\n",
       "    <tr>\n",
       "      <td>14</td>\n",
       "      <td>15</td>\n",
       "      <td>5</td>\n",
       "    </tr>\n",
       "    <tr>\n",
       "      <td>15</td>\n",
       "      <td>16</td>\n",
       "      <td>1</td>\n",
       "    </tr>\n",
       "    <tr>\n",
       "      <td>16</td>\n",
       "      <td>17</td>\n",
       "      <td>3</td>\n",
       "    </tr>\n",
       "    <tr>\n",
       "      <td>17</td>\n",
       "      <td>18</td>\n",
       "      <td>3</td>\n",
       "    </tr>\n",
       "    <tr>\n",
       "      <td>18</td>\n",
       "      <td>19</td>\n",
       "      <td>2</td>\n",
       "    </tr>\n",
       "    <tr>\n",
       "      <td>19</td>\n",
       "      <td>20</td>\n",
       "      <td>1</td>\n",
       "    </tr>\n",
       "    <tr>\n",
       "      <td>20</td>\n",
       "      <td>21</td>\n",
       "      <td>4</td>\n",
       "    </tr>\n",
       "    <tr>\n",
       "      <td>21</td>\n",
       "      <td>22</td>\n",
       "      <td>2</td>\n",
       "    </tr>\n",
       "    <tr>\n",
       "      <td>22</td>\n",
       "      <td>23</td>\n",
       "      <td>3</td>\n",
       "    </tr>\n",
       "    <tr>\n",
       "      <td>23</td>\n",
       "      <td>24</td>\n",
       "      <td>1</td>\n",
       "    </tr>\n",
       "    <tr>\n",
       "      <td>24</td>\n",
       "      <td>25</td>\n",
       "      <td>5</td>\n",
       "    </tr>\n",
       "    <tr>\n",
       "      <td>25</td>\n",
       "      <td>26</td>\n",
       "      <td>1</td>\n",
       "    </tr>\n",
       "    <tr>\n",
       "      <td>26</td>\n",
       "      <td>27</td>\n",
       "      <td>4</td>\n",
       "    </tr>\n",
       "    <tr>\n",
       "      <td>27</td>\n",
       "      <td>28</td>\n",
       "      <td>2</td>\n",
       "    </tr>\n",
       "    <tr>\n",
       "      <td>28</td>\n",
       "      <td>29</td>\n",
       "      <td>5</td>\n",
       "    </tr>\n",
       "    <tr>\n",
       "      <td>29</td>\n",
       "      <td>30</td>\n",
       "      <td>2</td>\n",
       "    </tr>\n",
       "    <tr>\n",
       "      <td>30</td>\n",
       "      <td>31</td>\n",
       "      <td>5</td>\n",
       "    </tr>\n",
       "    <tr>\n",
       "      <td>31</td>\n",
       "      <td>32</td>\n",
       "      <td>5</td>\n",
       "    </tr>\n",
       "    <tr>\n",
       "      <td>32</td>\n",
       "      <td>33</td>\n",
       "      <td>3</td>\n",
       "    </tr>\n",
       "    <tr>\n",
       "      <td>33</td>\n",
       "      <td>34</td>\n",
       "      <td>1</td>\n",
       "    </tr>\n",
       "    <tr>\n",
       "      <td>34</td>\n",
       "      <td>35</td>\n",
       "      <td>5</td>\n",
       "    </tr>\n",
       "    <tr>\n",
       "      <td>35</td>\n",
       "      <td>36</td>\n",
       "      <td>4</td>\n",
       "    </tr>\n",
       "  </tbody>\n",
       "</table>\n",
       "</div>"
      ],
      "text/plain": [
       "    Id  Answer\n",
       "0    1       4\n",
       "1    2       2\n",
       "2    3       3\n",
       "3    4       2\n",
       "4    5       1\n",
       "5    6       5\n",
       "6    7       2\n",
       "7    8       1\n",
       "8    9       4\n",
       "9   10       5\n",
       "10  11       3\n",
       "11  12       1\n",
       "12  13       3\n",
       "13  14       4\n",
       "14  15       5\n",
       "15  16       1\n",
       "16  17       3\n",
       "17  18       3\n",
       "18  19       2\n",
       "19  20       1\n",
       "20  21       4\n",
       "21  22       2\n",
       "22  23       3\n",
       "23  24       1\n",
       "24  25       5\n",
       "25  26       1\n",
       "26  27       4\n",
       "27  28       2\n",
       "28  29       5\n",
       "29  30       2\n",
       "30  31       5\n",
       "31  32       5\n",
       "32  33       3\n",
       "33  34       1\n",
       "34  35       5\n",
       "35  36       4"
      ]
     },
     "execution_count": 82,
     "metadata": {},
     "output_type": "execute_result"
    }
   ],
   "source": [
    "pd.DataFrame({'Id':range(1,len(answer_ls)+1), 'Answer':answer_ls}, columns=['Id', 'Answer'])"
   ]
  },
  {
   "cell_type": "code",
   "execution_count": null,
   "metadata": {},
   "outputs": [],
   "source": []
  }
 ],
 "metadata": {
  "kernelspec": {
   "display_name": "Python 3",
   "language": "python",
   "name": "python3"
  },
  "language_info": {
   "codemirror_mode": {
    "name": "ipython",
    "version": 3
   },
   "file_extension": ".py",
   "mimetype": "text/x-python",
   "name": "python",
   "nbconvert_exporter": "python",
   "pygments_lexer": "ipython3",
   "version": "3.7.4"
  }
 },
 "nbformat": 4,
 "nbformat_minor": 4
}
